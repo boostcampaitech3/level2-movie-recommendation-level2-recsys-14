{
 "cells": [
  {
   "cell_type": "code",
   "execution_count": 2,
   "metadata": {
    "collapsed": true
   },
   "outputs": [],
   "source": [
    "import os\n",
    "import math\n",
    "import numpy as np\n",
    "import pandas as pd\n",
    "from tqdm import tqdm\n",
    "from collections import defaultdict\n",
    "\n",
    "import torch\n",
    "import torch.nn as nn\n",
    "import torch.nn.functional as F\n",
    "from torch.utils.data import Dataset, DataLoader\n",
    "from scipy.sparse import csr_matrix"
   ]
  },
  {
   "cell_type": "code",
   "execution_count": 3,
   "outputs": [],
   "source": [
    "# model setting\n",
    "max_len = 50\n",
    "hidden_units = 50\n",
    "num_heads = 1\n",
    "num_layers = 2\n",
    "dropout_rate=0.5\n",
    "num_workers = 1\n",
    "device = 'cuda'\n",
    "\n",
    "# training setting\n",
    "lr = 0.001\n",
    "batch_size = 128\n",
    "num_epochs = 200\n",
    "mask_prob = 0.15 # for cloze task\n",
    "\n",
    "model_save_dir = '/opt/ml/input/experiment/'\n",
    "model_save_file = 'bert4rec_model.pt'"
   ],
   "metadata": {
    "collapsed": false,
    "pycharm": {
     "name": "#%%\n"
    }
   }
  },
  {
   "cell_type": "code",
   "execution_count": 10,
   "outputs": [
    {
     "name": "stdout",
     "output_type": "stream",
     "text": [
      "         item        genre\n",
      "0         318        Crime\n",
      "1         318        Drama\n",
      "2        2571       Action\n",
      "3        2571       Sci-Fi\n",
      "4        2571     Thriller\n",
      "...       ...          ...\n",
      "15928  109850        Drama\n",
      "15929    8605       Action\n",
      "15930    8605       Comedy\n",
      "15931    3689       Comedy\n",
      "15932    8130  Documentary\n",
      "\n",
      "[15933 rows x 2 columns]\n"
     ]
    }
   ],
   "source": [
    "############# 중요 #############\n",
    "# data_path는 사용자의 디렉토리에 맞게 설정해야 합니다.\n",
    "data_path = './input/data/train/train_ratings.csv'\n",
    "genre_path = './input/data/train/genres.tsv'\n",
    "\n",
    "df = pd.read_csv(data_path)\n",
    "genre_df = pd.read_csv(genre_path, sep='\\t')\n",
    "\n",
    "item_ids = df['item'].unique()\n",
    "user_ids = df['user'].unique()\n",
    "genre_ids = genre_df['genre'].unique()\n",
    "num_item, num_user = len(item_ids), len(user_ids)\n",
    "num_batch = num_user // batch_size\n",
    "\n",
    "item_to_index, user_to_index, genre_to_index = dict(), dict(), dict()\n",
    "index_to_item, index_to_user, index_to_genre = dict(), dict(), dict()\n",
    "\n",
    "for index, item_id in enumerate(item_ids):\n",
    "    item_to_index[item_id] = index + 1\n",
    "    index_to_item[index + 1] = item_id\n",
    "\n",
    "for index, user_id in enumerate(user_ids):\n",
    "    user_to_index[user_id] = index\n",
    "    index_to_user[index] = user_id\n",
    "\n",
    "for index, genre_id in enumerate(genre_ids):\n",
    "    genre_to_index[genre_id] = index\n",
    "    index_to_genre[index] = genre_id\n",
    "\n",
    "# user, item indexing\n",
    "item2idx = pd.Series(data=np.arange(len(item_ids))+1, index=item_ids) # item re-indexing (1~num_item), num_item+1: mask idx\n",
    "user2idx = pd.Series(data=np.arange(len(user_ids)), index=user_ids) # user re-indexing (0~num_user-1)\n",
    "genre2idx = pd.Series(data=np.arange(len(genre_ids)), index=genre_ids)"
   ],
   "metadata": {
    "collapsed": false,
    "pycharm": {
     "name": "#%%\n"
    }
   }
  },
  {
   "cell_type": "code",
   "execution_count": 11,
   "outputs": [],
   "source": [
    "# dataframe indexing\n",
    "df = pd.merge(df, pd.DataFrame({'item': item_ids, 'item_idx': item2idx[item_ids].values}), on='item', how='inner')\n",
    "df = pd.merge(df, pd.DataFrame({'user': user_ids, 'user_idx': user2idx[user_ids].values}), on='user', how='inner')"
   ],
   "metadata": {
    "collapsed": false,
    "pycharm": {
     "name": "#%%\n"
    }
   }
  },
  {
   "cell_type": "code",
   "execution_count": null,
   "outputs": [],
   "source": [
    "genre_df['genre'] = genre_df['genre'].map(lambda x: genre_to_index[x])"
   ],
   "metadata": {
    "collapsed": false,
    "pycharm": {
     "name": "#%%\n",
     "is_executing": true
    }
   }
  },
  {
   "cell_type": "code",
   "execution_count": 14,
   "outputs": [
    {
     "name": "stdout",
     "output_type": "stream",
     "text": [
      "Crime           0\n",
      "Drama           1\n",
      "Action          2\n",
      "Sci-Fi          3\n",
      "Thriller        4\n",
      "Comedy          5\n",
      "Romance         6\n",
      "War             7\n",
      "Adventure       8\n",
      "Fantasy         9\n",
      "Horror         10\n",
      "Mystery        11\n",
      "Animation      12\n",
      "Children       13\n",
      "Film-Noir      14\n",
      "Musical        15\n",
      "Western        16\n",
      "Documentary    17\n",
      "dtype: int64\n",
      "         item  genre\n",
      "0         318      0\n",
      "1         318      1\n",
      "2        2571      2\n",
      "3        2571      3\n",
      "4        2571      4\n",
      "...       ...    ...\n",
      "15928  109850      1\n",
      "15929    8605      2\n",
      "15930    8605      5\n",
      "15931    3689      5\n",
      "15932    8130     17\n",
      "\n",
      "[15933 rows x 2 columns]\n"
     ]
    }
   ],
   "source": [
    "print(pd.Series(genre_to_index))\n",
    "print(genre_df)"
   ],
   "metadata": {
    "collapsed": false,
    "pycharm": {
     "name": "#%%\n"
    }
   }
  },
  {
   "cell_type": "code",
   "execution_count": 19,
   "outputs": [
    {
     "name": "stdout",
     "output_type": "stream",
     "text": [
      "        item              genre\n",
      "0          1  [8, 12, 13, 5, 9]\n",
      "1          2         [8, 13, 9]\n",
      "2          3             [5, 6]\n",
      "3          4          [5, 1, 6]\n",
      "4          5                [5]\n",
      "...      ...                ...\n",
      "6802  118700                [1]\n",
      "6803  118900                [1]\n",
      "6804  118997     [13, 5, 9, 15]\n",
      "6805  119141             [2, 5]\n",
      "6806  119145       [2, 8, 5, 0]\n",
      "\n",
      "[6807 rows x 2 columns]\n"
     ]
    }
   ],
   "source": [
    "temp_df = genre_df.groupby(['item'])['genre'].apply(list).reset_index(name='genre')\n",
    "print(temp_df)"
   ],
   "metadata": {
    "collapsed": false,
    "pycharm": {
     "name": "#%%\n"
    }
   }
  },
  {
   "cell_type": "code",
   "execution_count": 20,
   "outputs": [],
   "source": [
    "def genre_one_hot_encoding(x):\n",
    "    genre_list = [0] * 18\n",
    "    genre_list[x] = 1\n",
    "    return genre_list"
   ],
   "metadata": {
    "collapsed": false,
    "pycharm": {
     "name": "#%%\n"
    }
   }
  },
  {
   "cell_type": "code",
   "execution_count": null,
   "outputs": [],
   "source": [],
   "metadata": {
    "collapsed": false,
    "pycharm": {
     "name": "#%%\n"
    }
   }
  }
 ],
 "metadata": {
  "kernelspec": {
   "display_name": "Python 3",
   "language": "python",
   "name": "python3"
  },
  "language_info": {
   "codemirror_mode": {
    "name": "ipython",
    "version": 2
   },
   "file_extension": ".py",
   "mimetype": "text/x-python",
   "name": "python",
   "nbconvert_exporter": "python",
   "pygments_lexer": "ipython2",
   "version": "2.7.6"
  }
 },
 "nbformat": 4,
 "nbformat_minor": 0
}