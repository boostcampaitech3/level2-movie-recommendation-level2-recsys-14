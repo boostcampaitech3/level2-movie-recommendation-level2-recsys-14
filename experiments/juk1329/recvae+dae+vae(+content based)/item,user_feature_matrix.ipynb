{
 "cells": [
  {
   "cell_type": "markdown",
   "metadata": {},
   "source": [
    "## item_feature vector 생성\n",
    "- tf-idf를 사용하여 side information을 적용한 각 영화의 feature vector를 생성해주었습니다.\n",
    "    - side information : title, genre\n",
    "- 그렇게 생성한 item_feature vector를 이용하여, 각 유저가 시청한 영화들의 기록을 이용하여 user_feature vector도 생성하였습니다.\n",
    "- item_feature.npy와 user_feature.npy를 저장합니다.\n",
    "    - item_feature.npy와 user_feature.npy는 이 노트북과 같은 경로에 생성됩니다.\n",
    "    - recvae_dae_vae_inference(+Content_Based).py 파일과 item_feature.npy, user_feature.npy이 같은 경로 안에 존재해야 합니다."
   ]
  },
  {
   "cell_type": "code",
   "execution_count": 62,
   "metadata": {
    "collapsed": true
   },
   "outputs": [],
   "source": [
    "import argparse\n",
    "import time\n",
    "import os\n",
    "import re\n",
    "\n",
    "import torch\n",
    "import torch.nn as nn\n",
    "import torch.nn.functional as F\n",
    "import bottleneck as bn\n",
    "import adabound\n",
    "import wandb\n",
    "import numpy as np\n",
    "import pandas as pd\n",
    "import matplotlib.pyplot as plt\n",
    "\n",
    "import nltk\n",
    "from nltk.corpus import stopwords\n",
    "from nltk.tokenize import word_tokenize\n",
    "\n",
    "from scipy import sparse"
   ]
  },
  {
   "cell_type": "code",
   "execution_count": 63,
   "metadata": {
    "collapsed": false,
    "pycharm": {
     "name": "#%%\n"
    }
   },
   "outputs": [],
   "source": [
    "## 각종 파라미터 세팅\n",
    "parser = argparse.ArgumentParser(description='PyTorch Variational Autoencoders for Collaborative Filtering')\n",
    "\n",
    "\n",
    "parser.add_argument('--data', type=str, default='/opt/ml/input/data/train/',\n",
    "                    help='Movielens dataset location')\n",
    "parser.add_argument('--lr', type=float, default=1e-4,\n",
    "                    help='initial learning rate')\n",
    "parser.add_argument('--wd', type=float, default=0.00,\n",
    "                    help='weight decay coefficient')\n",
    "parser.add_argument('--batch_size', type=int, default=500,\n",
    "                    help='batch size')\n",
    "parser.add_argument('--epochs', type=int, default=50, #원래 20\n",
    "                    help='upper epoch limit')\n",
    "parser.add_argument('--total_anneal_steps', type=int, default=200000,\n",
    "                    help='the total number of gradient updates for annealing')\n",
    "parser.add_argument('--anneal_cap', type=float, default=0.2,\n",
    "                    help='largest annealing parameter')\n",
    "parser.add_argument('--seed', type=int, default=1111,\n",
    "                    help='random seed')\n",
    "parser.add_argument('--cuda', action='store_true',\n",
    "                    help='use CUDA')\n",
    "parser.add_argument('--log_interval', type=int, default=100, metavar='N',\n",
    "                    help='report interval')\n",
    "parser.add_argument('--dae_save', type=str, default='multi_dae_model.pt',\n",
    "                    help='path to save the final model')\n",
    "parser.add_argument('--vae_save', type=str, default='multi_vae_model.pt',\n",
    "                    help='path to save the final model')\n",
    "args = parser.parse_args([])"
   ]
  },
  {
   "cell_type": "code",
   "execution_count": 64,
   "metadata": {
    "collapsed": false,
    "pycharm": {
     "name": "#%%\n"
    }
   },
   "outputs": [
    {
     "name": "stdout",
     "output_type": "stream",
     "text": [
      "cuda\n"
     ]
    }
   ],
   "source": [
    "# Set the random seed manually for reproductibility.\n",
    "torch.manual_seed(args.seed)\n",
    "\n",
    "#만약 GPU가 사용가능한 환경이라면 GPU를 사용\n",
    "if torch.cuda.is_available():\n",
    "    args.cuda = True\n",
    "\n",
    "device = torch.device(\"cuda\" if args.cuda else \"cpu\")\n",
    "print(device)"
   ]
  },
  {
   "cell_type": "markdown",
   "metadata": {
    "collapsed": false,
    "pycharm": {
     "name": "#%% md\n"
    }
   },
   "source": [
    "### 데이터 전처리\n",
    "- item_feature를 생성하기 위해 raw_data를 처리해야 합니다.\n",
    "- Multi-VAE 노트북의 데이터 전처리 과정을 그대로 사용했습니다."
   ]
  },
  {
   "cell_type": "code",
   "execution_count": 65,
   "metadata": {
    "collapsed": false,
    "pycharm": {
     "name": "#%%\n"
    }
   },
   "outputs": [],
   "source": [
    "def get_count(tp, id):\n",
    "    playcount_groupbyid = tp[[id]].groupby(id, as_index=False)\n",
    "    count = playcount_groupbyid.size()\n",
    "\n",
    "    return count"
   ]
  },
  {
   "cell_type": "code",
   "execution_count": 66,
   "metadata": {
    "collapsed": false,
    "pycharm": {
     "name": "#%%\n"
    }
   },
   "outputs": [],
   "source": [
    "def filter_triplets(tp, min_uc=5, min_sc=0):\n",
    "    if min_sc > 0:\n",
    "        itemcount = get_count(tp, 'item')\n",
    "        tp = tp[tp['item'].isin(itemcount.index[itemcount >= min_sc])]\n",
    "\n",
    "    if min_uc > 0:\n",
    "        usercount = get_count(tp, 'user')\n",
    "        tp = tp[tp['user'].isin(usercount.index[usercount >= min_uc])]\n",
    "\n",
    "    usercount, itemcount = get_count(tp, 'user'), get_count(tp, 'item')\n",
    "    return tp, usercount, itemcount"
   ]
  },
  {
   "cell_type": "code",
   "execution_count": 67,
   "metadata": {
    "collapsed": false,
    "pycharm": {
     "name": "#%%\n"
    }
   },
   "outputs": [],
   "source": [
    "def split_train_test_proportion(data, test_prop=0.2): #원래 0.2\n",
    "    data_grouped_by_user = data.groupby('user')\n",
    "    tr_list, te_list = list(), list()\n",
    "\n",
    "    np.random.seed(98765)\n",
    "\n",
    "    for _, group in data_grouped_by_user:\n",
    "        n_items_u = len(group)\n",
    "\n",
    "        if n_items_u >= 5:\n",
    "            idx = np.zeros(n_items_u, dtype='bool')\n",
    "            idx[np.random.choice(n_items_u, size=int(test_prop * n_items_u), replace=False).astype('int64')] = True\n",
    "\n",
    "            tr_list.append(group[np.logical_not(idx)])\n",
    "            te_list.append(group[idx])\n",
    "\n",
    "        else:\n",
    "            tr_list.append(group)\n",
    "\n",
    "    data_tr = pd.concat(tr_list)\n",
    "    data_te = pd.concat(te_list)\n",
    "\n",
    "    return data_tr, data_te"
   ]
  },
  {
   "cell_type": "code",
   "execution_count": 68,
   "metadata": {
    "collapsed": false,
    "pycharm": {
     "name": "#%%\n"
    }
   },
   "outputs": [],
   "source": [
    "def numerize(tp, profile2id, show2id):\n",
    "    uid = tp['user'].apply(lambda x: profile2id[x])\n",
    "    sid = tp['item'].apply(lambda x: show2id[x])\n",
    "    return pd.DataFrame(data={'uid': uid, 'sid': sid}, columns=['uid', 'sid'])"
   ]
  },
  {
   "cell_type": "code",
   "execution_count": 69,
   "metadata": {
    "collapsed": false,
    "pycharm": {
     "name": "#%%\n"
    }
   },
   "outputs": [
    {
     "name": "stdout",
     "output_type": "stream",
     "text": [
      "Load and Preprocess Movielens dataset\n",
      "원본 데이터\n",
      "            user   item        time\n",
      "0            11   4643  1230782529\n",
      "1            11    170  1230782534\n",
      "2            11    531  1230782539\n",
      "3            11    616  1230782542\n",
      "4            11   2140  1230782563\n",
      "...         ...    ...         ...\n",
      "5154466  138493  44022  1260209449\n",
      "5154467  138493   4958  1260209482\n",
      "5154468  138493  68319  1260209720\n",
      "5154469  138493  40819  1260209726\n",
      "5154470  138493  27311  1260209807\n",
      "\n",
      "[5154471 rows x 3 columns]\n"
     ]
    }
   ],
   "source": [
    "# Load Data\n",
    "print(\"Load and Preprocess Movielens dataset\")\n",
    "DATA_DIR = args.data\n",
    "raw_data = pd.read_csv(os.path.join(DATA_DIR, 'train_ratings.csv'), header=0)\n",
    "print(\"원본 데이터\\n\", raw_data)"
   ]
  },
  {
   "cell_type": "code",
   "execution_count": 70,
   "metadata": {},
   "outputs": [
    {
     "data": {
      "text/html": [
       "<div>\n",
       "<style scoped>\n",
       "    .dataframe tbody tr th:only-of-type {\n",
       "        vertical-align: middle;\n",
       "    }\n",
       "\n",
       "    .dataframe tbody tr th {\n",
       "        vertical-align: top;\n",
       "    }\n",
       "\n",
       "    .dataframe thead th {\n",
       "        text-align: right;\n",
       "    }\n",
       "</style>\n",
       "<table border=\"1\" class=\"dataframe\">\n",
       "  <thead>\n",
       "    <tr style=\"text-align: right;\">\n",
       "      <th></th>\n",
       "      <th>user</th>\n",
       "      <th>item</th>\n",
       "      <th>time</th>\n",
       "    </tr>\n",
       "  </thead>\n",
       "  <tbody>\n",
       "    <tr>\n",
       "      <th>1059595</th>\n",
       "      <td>27968</td>\n",
       "      <td>2997</td>\n",
       "      <td>1146358272</td>\n",
       "    </tr>\n",
       "    <tr>\n",
       "      <th>1059596</th>\n",
       "      <td>27968</td>\n",
       "      <td>912</td>\n",
       "      <td>1146358274</td>\n",
       "    </tr>\n",
       "    <tr>\n",
       "      <th>1059597</th>\n",
       "      <td>27968</td>\n",
       "      <td>223</td>\n",
       "      <td>1146358278</td>\n",
       "    </tr>\n",
       "    <tr>\n",
       "      <th>1059598</th>\n",
       "      <td>27968</td>\n",
       "      <td>2959</td>\n",
       "      <td>1146358280</td>\n",
       "    </tr>\n",
       "    <tr>\n",
       "      <th>1059599</th>\n",
       "      <td>27968</td>\n",
       "      <td>1221</td>\n",
       "      <td>1146358286</td>\n",
       "    </tr>\n",
       "    <tr>\n",
       "      <th>...</th>\n",
       "      <td>...</td>\n",
       "      <td>...</td>\n",
       "      <td>...</td>\n",
       "    </tr>\n",
       "    <tr>\n",
       "      <th>1059763</th>\n",
       "      <td>27968</td>\n",
       "      <td>916</td>\n",
       "      <td>1146360616</td>\n",
       "    </tr>\n",
       "    <tr>\n",
       "      <th>1059764</th>\n",
       "      <td>27968</td>\n",
       "      <td>1704</td>\n",
       "      <td>1146360751</td>\n",
       "    </tr>\n",
       "    <tr>\n",
       "      <th>1059765</th>\n",
       "      <td>27968</td>\n",
       "      <td>3071</td>\n",
       "      <td>1146360755</td>\n",
       "    </tr>\n",
       "    <tr>\n",
       "      <th>1059766</th>\n",
       "      <td>27968</td>\n",
       "      <td>2183</td>\n",
       "      <td>1146360829</td>\n",
       "    </tr>\n",
       "    <tr>\n",
       "      <th>1059767</th>\n",
       "      <td>27968</td>\n",
       "      <td>931</td>\n",
       "      <td>1146360833</td>\n",
       "    </tr>\n",
       "  </tbody>\n",
       "</table>\n",
       "<p>173 rows × 3 columns</p>\n",
       "</div>"
      ],
      "text/plain": [
       "          user  item        time\n",
       "1059595  27968  2997  1146358272\n",
       "1059596  27968   912  1146358274\n",
       "1059597  27968   223  1146358278\n",
       "1059598  27968  2959  1146358280\n",
       "1059599  27968  1221  1146358286\n",
       "...        ...   ...         ...\n",
       "1059763  27968   916  1146360616\n",
       "1059764  27968  1704  1146360751\n",
       "1059765  27968  3071  1146360755\n",
       "1059766  27968  2183  1146360829\n",
       "1059767  27968   931  1146360833\n",
       "\n",
       "[173 rows x 3 columns]"
      ]
     },
     "execution_count": 70,
     "metadata": {},
     "output_type": "execute_result"
    }
   ],
   "source": [
    "raw_data[raw_data['user']==27968]"
   ]
  },
  {
   "cell_type": "code",
   "execution_count": 71,
   "metadata": {
    "collapsed": false,
    "pycharm": {
     "name": "#%%\n"
    }
   },
   "outputs": [
    {
     "name": "stdout",
     "output_type": "stream",
     "text": [
      "5번 이상의 리뷰가 있는 유저들로만 구성된 데이터\n",
      "            user   item        time\n",
      "0            11   4643  1230782529\n",
      "1            11    170  1230782534\n",
      "2            11    531  1230782539\n",
      "3            11    616  1230782542\n",
      "4            11   2140  1230782563\n",
      "...         ...    ...         ...\n",
      "5154466  138493  44022  1260209449\n",
      "5154467  138493   4958  1260209482\n",
      "5154468  138493  68319  1260209720\n",
      "5154469  138493  40819  1260209726\n",
      "5154470  138493  27311  1260209807\n",
      "\n",
      "[5154471 rows x 3 columns]\n",
      "유저별 리뷰수\n",
      " user\n",
      "11        376\n",
      "14        180\n",
      "18         77\n",
      "25         91\n",
      "31        154\n",
      "         ... \n",
      "138473     63\n",
      "138475    124\n",
      "138486    137\n",
      "138492     68\n",
      "138493    314\n",
      "Length: 31360, dtype: int64\n",
      "아이템별 리뷰수\n",
      " item\n",
      "1         12217\n",
      "2          3364\n",
      "3           734\n",
      "4            43\n",
      "5           590\n",
      "          ...  \n",
      "118700       54\n",
      "118900       60\n",
      "118997       52\n",
      "119141      122\n",
      "119145       78\n",
      "Length: 6807, dtype: int64\n"
     ]
    }
   ],
   "source": [
    "# Filter Data\n",
    "raw_data, user_activity, item_popularity = filter_triplets(raw_data, min_uc=5, min_sc=0)\n",
    "#제공된 훈련데이터의 유저는 모두 5개 이상의 리뷰가 있습니다.\n",
    "print(\"5번 이상의 리뷰가 있는 유저들로만 구성된 데이터\\n\",raw_data)\n",
    "\n",
    "print(\"유저별 리뷰수\\n\",user_activity)\n",
    "print(\"아이템별 리뷰수\\n\",item_popularity)"
   ]
  },
  {
   "cell_type": "code",
   "execution_count": 72,
   "metadata": {
    "collapsed": false,
    "pycharm": {
     "name": "#%%\n"
    }
   },
   "outputs": [
    {
     "name": "stdout",
     "output_type": "stream",
     "text": [
      "(BEFORE) unique_uid: Int64Index([    11,     14,     18,     25,     31,     35,     43,     50,\n",
      "                58,     60,\n",
      "            ...\n",
      "            138459, 138461, 138470, 138471, 138472, 138473, 138475, 138486,\n",
      "            138492, 138493],\n",
      "           dtype='int64', name='user', length=31360)\n",
      "(AFTER) unique_uid: Int64Index([ 27968,  67764,   2581,  82969, 137831,  48639,  97870,  40424,\n",
      "             46835,  79570,\n",
      "            ...\n",
      "            114284,   9009,  21165,  33920,  22054, 135379, 125855,  41891,\n",
      "             15720,  17029],\n",
      "           dtype='int64', name='user', length=31360)\n"
     ]
    }
   ],
   "source": [
    "# Shuffle User Indices\n",
    "unique_uid = user_activity.index\n",
    "print(\"(BEFORE) unique_uid:\", unique_uid)\n",
    "np.random.seed(98765)\n",
    "idx_perm = np.random.permutation(unique_uid.size)\n",
    "unique_uid = unique_uid[idx_perm]\n",
    "print(\"(AFTER) unique_uid:\",unique_uid)\n",
    "\n",
    "n_users = unique_uid.size #31360\n",
    "n_heldout_users = 3136 #3000"
   ]
  },
  {
   "cell_type": "code",
   "execution_count": 73,
   "metadata": {
    "collapsed": false,
    "pycharm": {
     "name": "#%%\n"
    }
   },
   "outputs": [
    {
     "name": "stdout",
     "output_type": "stream",
     "text": [
      "훈련 데이터에 사용될 사용자 수: 25088\n",
      "검증 데이터에 사용될 사용자 수: 3136\n",
      "테스트 데이터에 사용될 사용자 수: 3136\n"
     ]
    }
   ],
   "source": [
    "# Split Train/Validation/Test User Indices\n",
    "tr_users = unique_uid[:(n_users - n_heldout_users * 2)]\n",
    "vd_users = unique_uid[(n_users - n_heldout_users * 2): (n_users - n_heldout_users)]\n",
    "te_users = unique_uid[(n_users - n_heldout_users):]\n",
    "\n",
    "#주의: 데이터의 수가 아닌 사용자의 수입니다.\n",
    "print(\"훈련 데이터에 사용될 사용자 수:\", len(tr_users))\n",
    "print(\"검증 데이터에 사용될 사용자 수:\", len(vd_users))\n",
    "print(\"테스트 데이터에 사용될 사용자 수:\", len(te_users))"
   ]
  },
  {
   "cell_type": "code",
   "execution_count": 74,
   "metadata": {
    "collapsed": false,
    "pycharm": {
     "name": "#%%\n"
    }
   },
   "outputs": [],
   "source": [
    "##훈련 데이터에 해당하는 아이템들\n",
    "#Train에는 전체 데이터를 사용합니다.\n",
    "train_plays = raw_data.loc[raw_data['user'].isin(tr_users)]\n",
    "\n",
    "##아이템 ID\n",
    "unique_sid = pd.unique(train_plays['item'])\n",
    "\n",
    "show2id = dict((sid, i) for (i, sid) in enumerate(unique_sid))\n",
    "profile2id = dict((pid, i) for (i, pid) in enumerate(unique_uid))\n",
    "\n",
    "pro_dir = os.path.join(DATA_DIR, 'pro_sg')\n",
    "\n",
    "if not os.path.exists(pro_dir):\n",
    "    os.makedirs(pro_dir)\n",
    "\n",
    "with open(os.path.join(pro_dir, 'unique_sid.txt'), 'w') as f:\n",
    "    for sid in unique_sid:\n",
    "        f.write('%s\\n' % sid)"
   ]
  },
  {
   "cell_type": "code",
   "execution_count": 75,
   "metadata": {
    "collapsed": false,
    "pycharm": {
     "name": "#%%\n"
    }
   },
   "outputs": [],
   "source": [
    "#Validation과 Test에는 input으로 사용될 tr 데이터와 정답을 확인하기 위한 te 데이터로 분리되었습니다.\n",
    "vad_plays = raw_data.loc[raw_data['user'].isin(vd_users)]\n",
    "vad_plays = vad_plays.loc[vad_plays['item'].isin(unique_sid)]\n",
    "vad_plays_tr, vad_plays_te = split_train_test_proportion(vad_plays)\n",
    "\n",
    "test_plays = raw_data.loc[raw_data['user'].isin(te_users)]\n",
    "test_plays = test_plays.loc[test_plays['item'].isin(unique_sid)]\n",
    "test_plays_tr, test_plays_te = split_train_test_proportion(test_plays)"
   ]
  },
  {
   "cell_type": "code",
   "execution_count": 76,
   "metadata": {
    "collapsed": false,
    "pycharm": {
     "name": "#%%\n"
    }
   },
   "outputs": [
    {
     "name": "stdout",
     "output_type": "stream",
     "text": [
      "Done!\n"
     ]
    }
   ],
   "source": [
    "train_data = numerize(train_plays, profile2id, show2id)\n",
    "train_data.to_csv(os.path.join(pro_dir, 'train.csv'), index=False)\n",
    "\n",
    "\n",
    "vad_data_tr = numerize(vad_plays_tr, profile2id, show2id)\n",
    "vad_data_tr.to_csv(os.path.join(pro_dir, 'validation_tr.csv'), index=False)\n",
    "\n",
    "vad_data_te = numerize(vad_plays_te, profile2id, show2id)\n",
    "vad_data_te.to_csv(os.path.join(pro_dir, 'validation_te.csv'), index=False)\n",
    "\n",
    "test_data_tr = numerize(test_plays_tr, profile2id, show2id)\n",
    "test_data_tr.to_csv(os.path.join(pro_dir, 'test_tr.csv'), index=False)\n",
    "\n",
    "test_data_te = numerize(test_plays_te, profile2id, show2id)\n",
    "test_data_te.to_csv(os.path.join(pro_dir, 'test_te.csv'), index=False)\n",
    "\n",
    "print(\"Done!\")"
   ]
  },
  {
   "cell_type": "code",
   "execution_count": 77,
   "metadata": {},
   "outputs": [
    {
     "name": "stdout",
     "output_type": "stream",
     "text": [
      "31360\n",
      "           user   item        time\n",
      "0            11   4643  1230782529\n",
      "1            11    170  1230782534\n",
      "2            11    531  1230782539\n",
      "3            11    616  1230782542\n",
      "4            11   2140  1230782563\n",
      "...         ...    ...         ...\n",
      "5154466  138493  44022  1260209449\n",
      "5154467  138493   4958  1260209482\n",
      "5154468  138493  68319  1260209720\n",
      "5154469  138493  40819  1260209726\n",
      "5154470  138493  27311  1260209807\n",
      "\n",
      "[5154471 rows x 3 columns]\n",
      "           uid   sid\n",
      "0        11825     0\n",
      "1        11825     1\n",
      "2        11825     2\n",
      "3        11825     3\n",
      "4        11825     4\n",
      "...        ...   ...\n",
      "5154466  10783   477\n",
      "5154467  10783  1325\n",
      "5154468  10783   331\n",
      "5154469  10783   558\n",
      "5154470  10783  1922\n",
      "\n",
      "[5154471 rows x 2 columns]\n"
     ]
    }
   ],
   "source": [
    "print(raw_data['user'].nunique())\n",
    "numer_raw = numerize(raw_data, profile2id, show2id)\n",
    "print(raw_data)\n",
    "print(numer_raw)"
   ]
  },
  {
   "cell_type": "markdown",
   "metadata": {
    "collapsed": false,
    "pycharm": {
     "name": "#%% md\n"
    }
   },
   "source": [
    "### Genre information 처리"
   ]
  },
  {
   "cell_type": "code",
   "execution_count": 78,
   "metadata": {
    "collapsed": false,
    "pycharm": {
     "name": "#%%\n"
    }
   },
   "outputs": [
    {
     "data": {
      "text/html": [
       "<div>\n",
       "<style scoped>\n",
       "    .dataframe tbody tr th:only-of-type {\n",
       "        vertical-align: middle;\n",
       "    }\n",
       "\n",
       "    .dataframe tbody tr th {\n",
       "        vertical-align: top;\n",
       "    }\n",
       "\n",
       "    .dataframe thead th {\n",
       "        text-align: right;\n",
       "    }\n",
       "</style>\n",
       "<table border=\"1\" class=\"dataframe\">\n",
       "  <thead>\n",
       "    <tr style=\"text-align: right;\">\n",
       "      <th></th>\n",
       "      <th>item</th>\n",
       "      <th>genre</th>\n",
       "    </tr>\n",
       "  </thead>\n",
       "  <tbody>\n",
       "    <tr>\n",
       "      <th>0</th>\n",
       "      <td>318</td>\n",
       "      <td>Crime</td>\n",
       "    </tr>\n",
       "    <tr>\n",
       "      <th>1</th>\n",
       "      <td>318</td>\n",
       "      <td>Drama</td>\n",
       "    </tr>\n",
       "    <tr>\n",
       "      <th>2</th>\n",
       "      <td>2571</td>\n",
       "      <td>Action</td>\n",
       "    </tr>\n",
       "    <tr>\n",
       "      <th>3</th>\n",
       "      <td>2571</td>\n",
       "      <td>Sci-Fi</td>\n",
       "    </tr>\n",
       "    <tr>\n",
       "      <th>4</th>\n",
       "      <td>2571</td>\n",
       "      <td>Thriller</td>\n",
       "    </tr>\n",
       "  </tbody>\n",
       "</table>\n",
       "</div>"
      ],
      "text/plain": [
       "   item     genre\n",
       "0   318     Crime\n",
       "1   318     Drama\n",
       "2  2571    Action\n",
       "3  2571    Sci-Fi\n",
       "4  2571  Thriller"
      ]
     },
     "execution_count": 78,
     "metadata": {},
     "output_type": "execute_result"
    }
   ],
   "source": [
    "gen = pd.read_csv(\"/opt/ml/input/data/train/genres.tsv\", delimiter='\\t')\n",
    "gen.head()"
   ]
  },
  {
   "cell_type": "code",
   "execution_count": 79,
   "metadata": {
    "collapsed": false,
    "pycharm": {
     "name": "#%%\n"
    }
   },
   "outputs": [],
   "source": [
    "def gen_numerize(tp, show2id):\n",
    "    sid = tp['item'].apply(lambda x: show2id[x])\n",
    "    return sid"
   ]
  },
  {
   "cell_type": "code",
   "execution_count": 80,
   "metadata": {
    "collapsed": false,
    "pycharm": {
     "name": "#%%\n"
    }
   },
   "outputs": [
    {
     "data": {
      "text/html": [
       "<div>\n",
       "<style scoped>\n",
       "    .dataframe tbody tr th:only-of-type {\n",
       "        vertical-align: middle;\n",
       "    }\n",
       "\n",
       "    .dataframe tbody tr th {\n",
       "        vertical-align: top;\n",
       "    }\n",
       "\n",
       "    .dataframe thead th {\n",
       "        text-align: right;\n",
       "    }\n",
       "</style>\n",
       "<table border=\"1\" class=\"dataframe\">\n",
       "  <thead>\n",
       "    <tr style=\"text-align: right;\">\n",
       "      <th></th>\n",
       "      <th>item</th>\n",
       "      <th>genre</th>\n",
       "    </tr>\n",
       "  </thead>\n",
       "  <tbody>\n",
       "    <tr>\n",
       "      <th>0</th>\n",
       "      <td>198</td>\n",
       "      <td>Crime</td>\n",
       "    </tr>\n",
       "    <tr>\n",
       "      <th>1</th>\n",
       "      <td>198</td>\n",
       "      <td>Drama</td>\n",
       "    </tr>\n",
       "    <tr>\n",
       "      <th>2</th>\n",
       "      <td>82</td>\n",
       "      <td>Action</td>\n",
       "    </tr>\n",
       "    <tr>\n",
       "      <th>3</th>\n",
       "      <td>82</td>\n",
       "      <td>Sci-Fi</td>\n",
       "    </tr>\n",
       "    <tr>\n",
       "      <th>4</th>\n",
       "      <td>82</td>\n",
       "      <td>Thriller</td>\n",
       "    </tr>\n",
       "  </tbody>\n",
       "</table>\n",
       "</div>"
      ],
      "text/plain": [
       "   item     genre\n",
       "0   198     Crime\n",
       "1   198     Drama\n",
       "2    82    Action\n",
       "3    82    Sci-Fi\n",
       "4    82  Thriller"
      ]
     },
     "execution_count": 80,
     "metadata": {},
     "output_type": "execute_result"
    }
   ],
   "source": [
    "gen['item'] = gen_numerize(gen, show2id)\n",
    "gen.head()"
   ]
  },
  {
   "cell_type": "code",
   "execution_count": 81,
   "metadata": {},
   "outputs": [
    {
     "data": {
      "text/html": [
       "<div>\n",
       "<style scoped>\n",
       "    .dataframe tbody tr th:only-of-type {\n",
       "        vertical-align: middle;\n",
       "    }\n",
       "\n",
       "    .dataframe tbody tr th {\n",
       "        vertical-align: top;\n",
       "    }\n",
       "\n",
       "    .dataframe thead th {\n",
       "        text-align: right;\n",
       "    }\n",
       "</style>\n",
       "<table border=\"1\" class=\"dataframe\">\n",
       "  <thead>\n",
       "    <tr style=\"text-align: right;\">\n",
       "      <th></th>\n",
       "      <th>item</th>\n",
       "      <th>genre</th>\n",
       "    </tr>\n",
       "  </thead>\n",
       "  <tbody>\n",
       "    <tr>\n",
       "      <th>0</th>\n",
       "      <td>198</td>\n",
       "      <td>Crime</td>\n",
       "    </tr>\n",
       "    <tr>\n",
       "      <th>1</th>\n",
       "      <td>198</td>\n",
       "      <td>Drama</td>\n",
       "    </tr>\n",
       "    <tr>\n",
       "      <th>2</th>\n",
       "      <td>82</td>\n",
       "      <td>Action</td>\n",
       "    </tr>\n",
       "    <tr>\n",
       "      <th>3</th>\n",
       "      <td>82</td>\n",
       "      <td>science_fiction</td>\n",
       "    </tr>\n",
       "    <tr>\n",
       "      <th>4</th>\n",
       "      <td>82</td>\n",
       "      <td>Thriller</td>\n",
       "    </tr>\n",
       "    <tr>\n",
       "      <th>...</th>\n",
       "      <td>...</td>\n",
       "      <td>...</td>\n",
       "    </tr>\n",
       "    <tr>\n",
       "      <th>15928</th>\n",
       "      <td>6763</td>\n",
       "      <td>Drama</td>\n",
       "    </tr>\n",
       "    <tr>\n",
       "      <th>15929</th>\n",
       "      <td>5046</td>\n",
       "      <td>Action</td>\n",
       "    </tr>\n",
       "    <tr>\n",
       "      <th>15930</th>\n",
       "      <td>5046</td>\n",
       "      <td>Comedy</td>\n",
       "    </tr>\n",
       "    <tr>\n",
       "      <th>15931</th>\n",
       "      <td>5508</td>\n",
       "      <td>Comedy</td>\n",
       "    </tr>\n",
       "    <tr>\n",
       "      <th>15932</th>\n",
       "      <td>5531</td>\n",
       "      <td>Documentary</td>\n",
       "    </tr>\n",
       "  </tbody>\n",
       "</table>\n",
       "<p>15933 rows × 2 columns</p>\n",
       "</div>"
      ],
      "text/plain": [
       "       item            genre\n",
       "0       198            Crime\n",
       "1       198            Drama\n",
       "2        82           Action\n",
       "3        82  science_fiction\n",
       "4        82         Thriller\n",
       "...     ...              ...\n",
       "15928  6763            Drama\n",
       "15929  5046           Action\n",
       "15930  5046           Comedy\n",
       "15931  5508           Comedy\n",
       "15932  5531      Documentary\n",
       "\n",
       "[15933 rows x 2 columns]"
      ]
     },
     "execution_count": 81,
     "metadata": {},
     "output_type": "execute_result"
    }
   ],
   "source": [
    "gen.replace('Sci-Fi','science_fiction',inplace=True)\n",
    "gen.replace('Film-Noir','Film_Noir',inplace=True)\n",
    "gen"
   ]
  },
  {
   "cell_type": "code",
   "execution_count": 82,
   "metadata": {},
   "outputs": [
    {
     "name": "stdout",
     "output_type": "stream",
     "text": [
      "31360\n"
     ]
    },
    {
     "data": {
      "text/html": [
       "<div>\n",
       "<style scoped>\n",
       "    .dataframe tbody tr th:only-of-type {\n",
       "        vertical-align: middle;\n",
       "    }\n",
       "\n",
       "    .dataframe tbody tr th {\n",
       "        vertical-align: top;\n",
       "    }\n",
       "\n",
       "    .dataframe thead th {\n",
       "        text-align: right;\n",
       "    }\n",
       "</style>\n",
       "<table border=\"1\" class=\"dataframe\">\n",
       "  <thead>\n",
       "    <tr style=\"text-align: right;\">\n",
       "      <th></th>\n",
       "      <th>user</th>\n",
       "      <th>item</th>\n",
       "    </tr>\n",
       "  </thead>\n",
       "  <tbody>\n",
       "    <tr>\n",
       "      <th>0</th>\n",
       "      <td>11825</td>\n",
       "      <td>0</td>\n",
       "    </tr>\n",
       "    <tr>\n",
       "      <th>1</th>\n",
       "      <td>11825</td>\n",
       "      <td>1</td>\n",
       "    </tr>\n",
       "    <tr>\n",
       "      <th>2</th>\n",
       "      <td>11825</td>\n",
       "      <td>2</td>\n",
       "    </tr>\n",
       "    <tr>\n",
       "      <th>3</th>\n",
       "      <td>11825</td>\n",
       "      <td>3</td>\n",
       "    </tr>\n",
       "    <tr>\n",
       "      <th>4</th>\n",
       "      <td>11825</td>\n",
       "      <td>4</td>\n",
       "    </tr>\n",
       "    <tr>\n",
       "      <th>...</th>\n",
       "      <td>...</td>\n",
       "      <td>...</td>\n",
       "    </tr>\n",
       "    <tr>\n",
       "      <th>5154466</th>\n",
       "      <td>10783</td>\n",
       "      <td>477</td>\n",
       "    </tr>\n",
       "    <tr>\n",
       "      <th>5154467</th>\n",
       "      <td>10783</td>\n",
       "      <td>1325</td>\n",
       "    </tr>\n",
       "    <tr>\n",
       "      <th>5154468</th>\n",
       "      <td>10783</td>\n",
       "      <td>331</td>\n",
       "    </tr>\n",
       "    <tr>\n",
       "      <th>5154469</th>\n",
       "      <td>10783</td>\n",
       "      <td>558</td>\n",
       "    </tr>\n",
       "    <tr>\n",
       "      <th>5154470</th>\n",
       "      <td>10783</td>\n",
       "      <td>1922</td>\n",
       "    </tr>\n",
       "  </tbody>\n",
       "</table>\n",
       "<p>5154471 rows × 2 columns</p>\n",
       "</div>"
      ],
      "text/plain": [
       "          user  item\n",
       "0        11825     0\n",
       "1        11825     1\n",
       "2        11825     2\n",
       "3        11825     3\n",
       "4        11825     4\n",
       "...        ...   ...\n",
       "5154466  10783   477\n",
       "5154467  10783  1325\n",
       "5154468  10783   331\n",
       "5154469  10783   558\n",
       "5154470  10783  1922\n",
       "\n",
       "[5154471 rows x 2 columns]"
      ]
     },
     "execution_count": 82,
     "metadata": {},
     "output_type": "execute_result"
    }
   ],
   "source": [
    "numer_raw.columns = ['user', 'item']\n",
    "print(numer_raw['user'].nunique())\n",
    "numer_raw"
   ]
  },
  {
   "cell_type": "code",
   "execution_count": 83,
   "metadata": {},
   "outputs": [
    {
     "name": "stdout",
     "output_type": "stream",
     "text": [
      "31360\n"
     ]
    },
    {
     "data": {
      "text/html": [
       "<div>\n",
       "<style scoped>\n",
       "    .dataframe tbody tr th:only-of-type {\n",
       "        vertical-align: middle;\n",
       "    }\n",
       "\n",
       "    .dataframe tbody tr th {\n",
       "        vertical-align: top;\n",
       "    }\n",
       "\n",
       "    .dataframe thead th {\n",
       "        text-align: right;\n",
       "    }\n",
       "</style>\n",
       "<table border=\"1\" class=\"dataframe\">\n",
       "  <thead>\n",
       "    <tr style=\"text-align: right;\">\n",
       "      <th></th>\n",
       "      <th>user</th>\n",
       "      <th>item</th>\n",
       "      <th>genre</th>\n",
       "    </tr>\n",
       "  </thead>\n",
       "  <tbody>\n",
       "    <tr>\n",
       "      <th>0</th>\n",
       "      <td>11825</td>\n",
       "      <td>0</td>\n",
       "      <td>Action</td>\n",
       "    </tr>\n",
       "    <tr>\n",
       "      <th>1</th>\n",
       "      <td>11825</td>\n",
       "      <td>0</td>\n",
       "      <td>Adventure</td>\n",
       "    </tr>\n",
       "    <tr>\n",
       "      <th>2</th>\n",
       "      <td>11825</td>\n",
       "      <td>0</td>\n",
       "      <td>Drama</td>\n",
       "    </tr>\n",
       "    <tr>\n",
       "      <th>3</th>\n",
       "      <td>11825</td>\n",
       "      <td>0</td>\n",
       "      <td>science_fiction</td>\n",
       "    </tr>\n",
       "    <tr>\n",
       "      <th>4</th>\n",
       "      <td>30224</td>\n",
       "      <td>0</td>\n",
       "      <td>Action</td>\n",
       "    </tr>\n",
       "    <tr>\n",
       "      <th>...</th>\n",
       "      <td>...</td>\n",
       "      <td>...</td>\n",
       "      <td>...</td>\n",
       "    </tr>\n",
       "    <tr>\n",
       "      <th>14126319</th>\n",
       "      <td>17505</td>\n",
       "      <td>6798</td>\n",
       "      <td>Adventure</td>\n",
       "    </tr>\n",
       "    <tr>\n",
       "      <th>14126320</th>\n",
       "      <td>17505</td>\n",
       "      <td>6798</td>\n",
       "      <td>science_fiction</td>\n",
       "    </tr>\n",
       "    <tr>\n",
       "      <th>14126321</th>\n",
       "      <td>8540</td>\n",
       "      <td>6798</td>\n",
       "      <td>Action</td>\n",
       "    </tr>\n",
       "    <tr>\n",
       "      <th>14126322</th>\n",
       "      <td>8540</td>\n",
       "      <td>6798</td>\n",
       "      <td>Adventure</td>\n",
       "    </tr>\n",
       "    <tr>\n",
       "      <th>14126323</th>\n",
       "      <td>8540</td>\n",
       "      <td>6798</td>\n",
       "      <td>science_fiction</td>\n",
       "    </tr>\n",
       "  </tbody>\n",
       "</table>\n",
       "<p>14126324 rows × 3 columns</p>\n",
       "</div>"
      ],
      "text/plain": [
       "           user  item            genre\n",
       "0         11825     0           Action\n",
       "1         11825     0        Adventure\n",
       "2         11825     0            Drama\n",
       "3         11825     0  science_fiction\n",
       "4         30224     0           Action\n",
       "...         ...   ...              ...\n",
       "14126319  17505  6798        Adventure\n",
       "14126320  17505  6798  science_fiction\n",
       "14126321   8540  6798           Action\n",
       "14126322   8540  6798        Adventure\n",
       "14126323   8540  6798  science_fiction\n",
       "\n",
       "[14126324 rows x 3 columns]"
      ]
     },
     "execution_count": 83,
     "metadata": {},
     "output_type": "execute_result"
    }
   ],
   "source": [
    "temp_mat = pd.DataFrame.merge(numer_raw, gen, on='item')\n",
    "print(temp_mat['user'].nunique())\n",
    "temp_mat"
   ]
  },
  {
   "cell_type": "code",
   "execution_count": 84,
   "metadata": {},
   "outputs": [
    {
     "name": "stderr",
     "output_type": "stream",
     "text": [
      "/tmp/ipykernel_40617/305183756.py:1: UserWarning: Boolean Series key will be reindexed to match DataFrame index.\n",
      "  temp_mat[temp_mat.sort_values('user')['user'] == 0]['item'].nunique()\n"
     ]
    },
    {
     "data": {
      "text/plain": [
       "173"
      ]
     },
     "execution_count": 84,
     "metadata": {},
     "output_type": "execute_result"
    }
   ],
   "source": [
    "temp_mat[temp_mat.sort_values('user')['user'] == 0]['item'].nunique()"
   ]
  },
  {
   "cell_type": "markdown",
   "metadata": {
    "collapsed": false,
    "pycharm": {
     "name": "#%% md\n"
    }
   },
   "source": [
    "### Title information 처리"
   ]
  },
  {
   "cell_type": "code",
   "execution_count": 85,
   "metadata": {
    "collapsed": false,
    "pycharm": {
     "name": "#%%\n"
    }
   },
   "outputs": [],
   "source": [
    "title = pd.read_csv(\"/opt/ml/input/data/train/titles.tsv\", delimiter='\\t')"
   ]
  },
  {
   "cell_type": "code",
   "execution_count": 86,
   "metadata": {
    "collapsed": false,
    "pycharm": {
     "name": "#%%\n"
    }
   },
   "outputs": [
    {
     "name": "stdout",
     "output_type": "stream",
     "text": [
      "        item                                              title\n",
      "0        318                   Shawshank Redemption, The (1994)\n",
      "1       2571                                 Matrix, The (1999)\n",
      "2       2959                                  Fight Club (1999)\n",
      "3        296                                Pulp Fiction (1994)\n",
      "4        356                                Forrest Gump (1994)\n",
      "...      ...                                                ...\n",
      "6802   73106  American Pie Presents: The Book of Love (Ameri...\n",
      "6803  109850                              Need for Speed (2014)\n",
      "6804    8605                                      Taxi 3 (2003)\n",
      "6805    3689                    Porky's II: The Next Day (1983)\n",
      "6806    8130                         Girl Next Door, The (1999)\n",
      "\n",
      "[6807 rows x 2 columns]\n"
     ]
    }
   ],
   "source": [
    "print(title)"
   ]
  },
  {
   "cell_type": "code",
   "execution_count": 87,
   "metadata": {
    "collapsed": false,
    "pycharm": {
     "name": "#%%\n"
    }
   },
   "outputs": [],
   "source": [
    "def title_numerize(tp, show2id):\n",
    "    sid = tp['item'].apply(lambda x: show2id[x])\n",
    "    return sid"
   ]
  },
  {
   "cell_type": "code",
   "execution_count": 88,
   "metadata": {
    "collapsed": false,
    "pycharm": {
     "name": "#%%\n"
    }
   },
   "outputs": [
    {
     "name": "stdout",
     "output_type": "stream",
     "text": [
      "      item                                              title\n",
      "0      198                   Shawshank Redemption, The (1994)\n",
      "1       82                                 Matrix, The (1999)\n",
      "2      260                                  Fight Club (1999)\n",
      "3      264                                Pulp Fiction (1994)\n",
      "4      265                                Forrest Gump (1994)\n",
      "...    ...                                                ...\n",
      "6802  3396  American Pie Presents: The Book of Love (Ameri...\n",
      "6803  6763                              Need for Speed (2014)\n",
      "6804  5046                                      Taxi 3 (2003)\n",
      "6805  5508                    Porky's II: The Next Day (1983)\n",
      "6806  5531                         Girl Next Door, The (1999)\n",
      "\n",
      "[6807 rows x 2 columns]\n"
     ]
    }
   ],
   "source": [
    "title['item'] = title_numerize(title, show2id)\n",
    "print(title)"
   ]
  },
  {
   "cell_type": "code",
   "execution_count": 89,
   "metadata": {
    "collapsed": false,
    "pycharm": {
     "name": "#%%\n"
    }
   },
   "outputs": [
    {
     "name": "stderr",
     "output_type": "stream",
     "text": [
      "[nltk_data] Downloading package stopwords to /opt/ml/nltk_data...\n",
      "[nltk_data]   Package stopwords is already up-to-date!\n",
      "[nltk_data] Downloading package punkt to /opt/ml/nltk_data...\n",
      "[nltk_data]   Package punkt is already up-to-date!\n"
     ]
    }
   ],
   "source": [
    "nltk.download('stopwords')\n",
    "nltk.download('punkt')\n",
    "\n",
    "stops = stopwords.words('english')"
   ]
  },
  {
   "cell_type": "code",
   "execution_count": 90,
   "metadata": {
    "collapsed": false,
    "pycharm": {
     "name": "#%%\n"
    }
   },
   "outputs": [],
   "source": [
    "new_title = []\n",
    "\n",
    "for item, text in title.values:\n",
    "    new_text = ''\n",
    "    if re.search(r'\\([0-9]{4}\\)', text[-6:]):\n",
    "        new_text = text[:-6]\n",
    "    else:\n",
    "        new_text = text[:text.rfind('(')]\n",
    "\n",
    "    new_text = re.compile(\"[,:]\").sub(\"\", new_text)\n",
    "    # filtered_tokens = [token for token in word_tokenize(new_text) if token.lower() not in stops]\n",
    "    # new_title.append([item, ' '.join(filtered_tokens)])\n",
    "    new_title.append([item, new_text])\n",
    "\n",
    "new_title_df = pd.DataFrame(new_title, columns = ['item', 'title'])"
   ]
  },
  {
   "cell_type": "code",
   "execution_count": 91,
   "metadata": {},
   "outputs": [
    {
     "data": {
      "text/html": [
       "<div>\n",
       "<style scoped>\n",
       "    .dataframe tbody tr th:only-of-type {\n",
       "        vertical-align: middle;\n",
       "    }\n",
       "\n",
       "    .dataframe tbody tr th {\n",
       "        vertical-align: top;\n",
       "    }\n",
       "\n",
       "    .dataframe thead th {\n",
       "        text-align: right;\n",
       "    }\n",
       "</style>\n",
       "<table border=\"1\" class=\"dataframe\">\n",
       "  <thead>\n",
       "    <tr style=\"text-align: right;\">\n",
       "      <th></th>\n",
       "      <th>item</th>\n",
       "      <th>title</th>\n",
       "    </tr>\n",
       "  </thead>\n",
       "  <tbody>\n",
       "    <tr>\n",
       "      <th>0</th>\n",
       "      <td>198</td>\n",
       "      <td>Shawshank Redemption The</td>\n",
       "    </tr>\n",
       "    <tr>\n",
       "      <th>1</th>\n",
       "      <td>82</td>\n",
       "      <td>Matrix The</td>\n",
       "    </tr>\n",
       "    <tr>\n",
       "      <th>2</th>\n",
       "      <td>260</td>\n",
       "      <td>Fight Club</td>\n",
       "    </tr>\n",
       "    <tr>\n",
       "      <th>3</th>\n",
       "      <td>264</td>\n",
       "      <td>Pulp Fiction</td>\n",
       "    </tr>\n",
       "    <tr>\n",
       "      <th>4</th>\n",
       "      <td>265</td>\n",
       "      <td>Forrest Gump</td>\n",
       "    </tr>\n",
       "    <tr>\n",
       "      <th>...</th>\n",
       "      <td>...</td>\n",
       "      <td>...</td>\n",
       "    </tr>\n",
       "    <tr>\n",
       "      <th>6802</th>\n",
       "      <td>3396</td>\n",
       "      <td>American Pie Presents The Book of Love (Americ...</td>\n",
       "    </tr>\n",
       "    <tr>\n",
       "      <th>6803</th>\n",
       "      <td>6763</td>\n",
       "      <td>Need for Speed</td>\n",
       "    </tr>\n",
       "    <tr>\n",
       "      <th>6804</th>\n",
       "      <td>5046</td>\n",
       "      <td>Taxi 3</td>\n",
       "    </tr>\n",
       "    <tr>\n",
       "      <th>6805</th>\n",
       "      <td>5508</td>\n",
       "      <td>Porky's II The Next Day</td>\n",
       "    </tr>\n",
       "    <tr>\n",
       "      <th>6806</th>\n",
       "      <td>5531</td>\n",
       "      <td>Girl Next Door The</td>\n",
       "    </tr>\n",
       "  </tbody>\n",
       "</table>\n",
       "<p>6807 rows × 2 columns</p>\n",
       "</div>"
      ],
      "text/plain": [
       "      item                                              title\n",
       "0      198                          Shawshank Redemption The \n",
       "1       82                                        Matrix The \n",
       "2      260                                        Fight Club \n",
       "3      264                                      Pulp Fiction \n",
       "4      265                                      Forrest Gump \n",
       "...    ...                                                ...\n",
       "6802  3396  American Pie Presents The Book of Love (Americ...\n",
       "6803  6763                                    Need for Speed \n",
       "6804  5046                                            Taxi 3 \n",
       "6805  5508                           Porky's II The Next Day \n",
       "6806  5531                                Girl Next Door The \n",
       "\n",
       "[6807 rows x 2 columns]"
      ]
     },
     "execution_count": 91,
     "metadata": {},
     "output_type": "execute_result"
    }
   ],
   "source": [
    "new_title_df"
   ]
  },
  {
   "cell_type": "code",
   "execution_count": 92,
   "metadata": {},
   "outputs": [],
   "source": [
    "user_item_df = pd.DataFrame.merge(temp_mat, new_title_df, on='item')"
   ]
  },
  {
   "cell_type": "code",
   "execution_count": 93,
   "metadata": {},
   "outputs": [
    {
     "data": {
      "text/plain": [
       "6807"
      ]
     },
     "execution_count": 93,
     "metadata": {},
     "output_type": "execute_result"
    }
   ],
   "source": [
    "user_item_df['item'].nunique()"
   ]
  },
  {
   "cell_type": "code",
   "execution_count": 94,
   "metadata": {},
   "outputs": [
    {
     "data": {
      "text/html": [
       "<div>\n",
       "<style scoped>\n",
       "    .dataframe tbody tr th:only-of-type {\n",
       "        vertical-align: middle;\n",
       "    }\n",
       "\n",
       "    .dataframe tbody tr th {\n",
       "        vertical-align: top;\n",
       "    }\n",
       "\n",
       "    .dataframe thead th {\n",
       "        text-align: right;\n",
       "    }\n",
       "</style>\n",
       "<table border=\"1\" class=\"dataframe\">\n",
       "  <thead>\n",
       "    <tr style=\"text-align: right;\">\n",
       "      <th></th>\n",
       "      <th>user</th>\n",
       "      <th>item</th>\n",
       "      <th>genre</th>\n",
       "      <th>title</th>\n",
       "    </tr>\n",
       "  </thead>\n",
       "  <tbody>\n",
       "    <tr>\n",
       "      <th>0</th>\n",
       "      <td>11825</td>\n",
       "      <td>0</td>\n",
       "      <td>Action</td>\n",
       "      <td>Planet of the Apes</td>\n",
       "    </tr>\n",
       "    <tr>\n",
       "      <th>1</th>\n",
       "      <td>11825</td>\n",
       "      <td>0</td>\n",
       "      <td>Adventure</td>\n",
       "      <td>Planet of the Apes</td>\n",
       "    </tr>\n",
       "    <tr>\n",
       "      <th>2</th>\n",
       "      <td>11825</td>\n",
       "      <td>0</td>\n",
       "      <td>Drama</td>\n",
       "      <td>Planet of the Apes</td>\n",
       "    </tr>\n",
       "    <tr>\n",
       "      <th>3</th>\n",
       "      <td>11825</td>\n",
       "      <td>0</td>\n",
       "      <td>science_fiction</td>\n",
       "      <td>Planet of the Apes</td>\n",
       "    </tr>\n",
       "    <tr>\n",
       "      <th>4</th>\n",
       "      <td>30224</td>\n",
       "      <td>0</td>\n",
       "      <td>Action</td>\n",
       "      <td>Planet of the Apes</td>\n",
       "    </tr>\n",
       "    <tr>\n",
       "      <th>...</th>\n",
       "      <td>...</td>\n",
       "      <td>...</td>\n",
       "      <td>...</td>\n",
       "      <td>...</td>\n",
       "    </tr>\n",
       "    <tr>\n",
       "      <th>14126319</th>\n",
       "      <td>17505</td>\n",
       "      <td>6798</td>\n",
       "      <td>Adventure</td>\n",
       "      <td>After Earth</td>\n",
       "    </tr>\n",
       "    <tr>\n",
       "      <th>14126320</th>\n",
       "      <td>17505</td>\n",
       "      <td>6798</td>\n",
       "      <td>science_fiction</td>\n",
       "      <td>After Earth</td>\n",
       "    </tr>\n",
       "    <tr>\n",
       "      <th>14126321</th>\n",
       "      <td>8540</td>\n",
       "      <td>6798</td>\n",
       "      <td>Action</td>\n",
       "      <td>After Earth</td>\n",
       "    </tr>\n",
       "    <tr>\n",
       "      <th>14126322</th>\n",
       "      <td>8540</td>\n",
       "      <td>6798</td>\n",
       "      <td>Adventure</td>\n",
       "      <td>After Earth</td>\n",
       "    </tr>\n",
       "    <tr>\n",
       "      <th>14126323</th>\n",
       "      <td>8540</td>\n",
       "      <td>6798</td>\n",
       "      <td>science_fiction</td>\n",
       "      <td>After Earth</td>\n",
       "    </tr>\n",
       "  </tbody>\n",
       "</table>\n",
       "<p>14126324 rows × 4 columns</p>\n",
       "</div>"
      ],
      "text/plain": [
       "           user  item            genre                title\n",
       "0         11825     0           Action  Planet of the Apes \n",
       "1         11825     0        Adventure  Planet of the Apes \n",
       "2         11825     0            Drama  Planet of the Apes \n",
       "3         11825     0  science_fiction  Planet of the Apes \n",
       "4         30224     0           Action  Planet of the Apes \n",
       "...         ...   ...              ...                  ...\n",
       "14126319  17505  6798        Adventure         After Earth \n",
       "14126320  17505  6798  science_fiction         After Earth \n",
       "14126321   8540  6798           Action         After Earth \n",
       "14126322   8540  6798        Adventure         After Earth \n",
       "14126323   8540  6798  science_fiction         After Earth \n",
       "\n",
       "[14126324 rows x 4 columns]"
      ]
     },
     "execution_count": 94,
     "metadata": {},
     "output_type": "execute_result"
    }
   ],
   "source": [
    "user_item_df"
   ]
  },
  {
   "cell_type": "markdown",
   "metadata": {},
   "source": [
    "### directors information 처리(최종 item_feature에는 사용 X)"
   ]
  },
  {
   "cell_type": "code",
   "execution_count": 95,
   "metadata": {},
   "outputs": [],
   "source": [
    "directors  = pd.read_csv(\"/opt/ml/input/data/train/directors.tsv\", delimiter='\\t')"
   ]
  },
  {
   "cell_type": "code",
   "execution_count": 96,
   "metadata": {},
   "outputs": [],
   "source": [
    "def director_numerize(tp, show2id):\n",
    "    sid = tp['item'].apply(lambda x: show2id[x])\n",
    "    return sid"
   ]
  },
  {
   "cell_type": "code",
   "execution_count": 97,
   "metadata": {},
   "outputs": [
    {
     "name": "stdout",
     "output_type": "stream",
     "text": [
      "      item   director\n",
      "0      917  nm0000005\n",
      "1     1859  nm0000005\n",
      "2     1786  nm0000005\n",
      "3     3694  nm0000005\n",
      "4     2756  nm0000005\n",
      "...    ...        ...\n",
      "5900  5530  nm2879822\n",
      "5901  2769  nm2879822\n",
      "5902  3731  nm2879822\n",
      "5903  1681  nm9054338\n",
      "5904  1937  nm9054338\n",
      "\n",
      "[5905 rows x 2 columns]\n"
     ]
    }
   ],
   "source": [
    "directors['item'] = director_numerize(directors, show2id)\n",
    "print(directors)"
   ]
  },
  {
   "cell_type": "code",
   "execution_count": 98,
   "metadata": {},
   "outputs": [],
   "source": [
    "user_item_df = pd.DataFrame.merge(user_item_df, directors, how='outer',on = 'item')"
   ]
  },
  {
   "cell_type": "code",
   "execution_count": 99,
   "metadata": {},
   "outputs": [
    {
     "data": {
      "text/html": [
       "<div>\n",
       "<style scoped>\n",
       "    .dataframe tbody tr th:only-of-type {\n",
       "        vertical-align: middle;\n",
       "    }\n",
       "\n",
       "    .dataframe tbody tr th {\n",
       "        vertical-align: top;\n",
       "    }\n",
       "\n",
       "    .dataframe thead th {\n",
       "        text-align: right;\n",
       "    }\n",
       "</style>\n",
       "<table border=\"1\" class=\"dataframe\">\n",
       "  <thead>\n",
       "    <tr style=\"text-align: right;\">\n",
       "      <th></th>\n",
       "      <th>user</th>\n",
       "      <th>item</th>\n",
       "      <th>genre</th>\n",
       "      <th>title</th>\n",
       "      <th>director</th>\n",
       "    </tr>\n",
       "  </thead>\n",
       "  <tbody>\n",
       "    <tr>\n",
       "      <th>0</th>\n",
       "      <td>0</td>\n",
       "      <td>753</td>\n",
       "      <td>War</td>\n",
       "      <td>Bridge on the River Kwai The</td>\n",
       "      <td>nm0000180</td>\n",
       "    </tr>\n",
       "    <tr>\n",
       "      <th>1</th>\n",
       "      <td>0</td>\n",
       "      <td>2218</td>\n",
       "      <td>Crime</td>\n",
       "      <td>Big Sleep The</td>\n",
       "      <td>nm0001328</td>\n",
       "    </tr>\n",
       "    <tr>\n",
       "      <th>2</th>\n",
       "      <td>0</td>\n",
       "      <td>2435</td>\n",
       "      <td>Thriller</td>\n",
       "      <td>Rebecca</td>\n",
       "      <td>nm0000033</td>\n",
       "    </tr>\n",
       "    <tr>\n",
       "      <th>3</th>\n",
       "      <td>0</td>\n",
       "      <td>3977</td>\n",
       "      <td>Thriller</td>\n",
       "      <td>Getaway The</td>\n",
       "      <td>nm0001603</td>\n",
       "    </tr>\n",
       "    <tr>\n",
       "      <th>4</th>\n",
       "      <td>0</td>\n",
       "      <td>1071</td>\n",
       "      <td>Drama</td>\n",
       "      <td>Gandhi</td>\n",
       "      <td>nm0000277</td>\n",
       "    </tr>\n",
       "    <tr>\n",
       "      <th>...</th>\n",
       "      <td>...</td>\n",
       "      <td>...</td>\n",
       "      <td>...</td>\n",
       "      <td>...</td>\n",
       "      <td>...</td>\n",
       "    </tr>\n",
       "    <tr>\n",
       "      <th>16135953</th>\n",
       "      <td>31359</td>\n",
       "      <td>962</td>\n",
       "      <td>Comedy</td>\n",
       "      <td>O Brother Where Art Thou?</td>\n",
       "      <td>nm0001054</td>\n",
       "    </tr>\n",
       "    <tr>\n",
       "      <th>16135954</th>\n",
       "      <td>31359</td>\n",
       "      <td>494</td>\n",
       "      <td>Comedy</td>\n",
       "      <td>Bend It Like Beckham</td>\n",
       "      <td>nm0149446</td>\n",
       "    </tr>\n",
       "    <tr>\n",
       "      <th>16135955</th>\n",
       "      <td>31359</td>\n",
       "      <td>2650</td>\n",
       "      <td>Thriller</td>\n",
       "      <td>Third Man The</td>\n",
       "      <td>nm0715346</td>\n",
       "    </tr>\n",
       "    <tr>\n",
       "      <th>16135956</th>\n",
       "      <td>31359</td>\n",
       "      <td>1235</td>\n",
       "      <td>Romance</td>\n",
       "      <td>Forgetting Sarah Marshall</td>\n",
       "      <td>nm0831557</td>\n",
       "    </tr>\n",
       "    <tr>\n",
       "      <th>16135957</th>\n",
       "      <td>31360</td>\n",
       "      <td>0</td>\n",
       "      <td>0</td>\n",
       "      <td>0</td>\n",
       "      <td>0</td>\n",
       "    </tr>\n",
       "  </tbody>\n",
       "</table>\n",
       "<p>16135958 rows × 5 columns</p>\n",
       "</div>"
      ],
      "text/plain": [
       "           user  item     genre                          title   director\n",
       "0             0   753       War  Bridge on the River Kwai The   nm0000180\n",
       "1             0  2218     Crime                 Big Sleep The   nm0001328\n",
       "2             0  2435  Thriller                       Rebecca   nm0000033\n",
       "3             0  3977  Thriller                   Getaway The   nm0001603\n",
       "4             0  1071     Drama                        Gandhi   nm0000277\n",
       "...         ...   ...       ...                            ...        ...\n",
       "16135953  31359   962    Comedy     O Brother Where Art Thou?   nm0001054\n",
       "16135954  31359   494    Comedy          Bend It Like Beckham   nm0149446\n",
       "16135955  31359  2650  Thriller                 Third Man The   nm0715346\n",
       "16135956  31359  1235   Romance     Forgetting Sarah Marshall   nm0831557\n",
       "16135957  31360     0         0                              0          0\n",
       "\n",
       "[16135958 rows x 5 columns]"
      ]
     },
     "execution_count": 99,
     "metadata": {},
     "output_type": "execute_result"
    }
   ],
   "source": [
    "user_item_df = user_item_df.sort_values('user').append({'user': 31360, 'item' : 0, 'genre' : '0', 'title' : '0', 'director':'0'}, ignore_index=True)\n",
    "user_item_df"
   ]
  },
  {
   "cell_type": "code",
   "execution_count": 100,
   "metadata": {},
   "outputs": [
    {
     "data": {
      "text/plain": [
       "31361"
      ]
     },
     "execution_count": 100,
     "metadata": {},
     "output_type": "execute_result"
    }
   ],
   "source": [
    "user_item_df['user'].nunique()"
   ]
  },
  {
   "cell_type": "code",
   "execution_count": 101,
   "metadata": {},
   "outputs": [
    {
     "data": {
      "text/plain": [
       "726676"
      ]
     },
     "execution_count": 101,
     "metadata": {},
     "output_type": "execute_result"
    }
   ],
   "source": [
    "user_item_df['director'].isnull().sum().sum()"
   ]
  },
  {
   "cell_type": "markdown",
   "metadata": {},
   "source": [
    "### user_feature를 생성하기 위한 user별 시청 기록 생성"
   ]
  },
  {
   "cell_type": "code",
   "execution_count": 102,
   "metadata": {},
   "outputs": [
    {
     "data": {
      "text/html": [
       "<div>\n",
       "<style scoped>\n",
       "    .dataframe tbody tr th:only-of-type {\n",
       "        vertical-align: middle;\n",
       "    }\n",
       "\n",
       "    .dataframe tbody tr th {\n",
       "        vertical-align: top;\n",
       "    }\n",
       "\n",
       "    .dataframe thead th {\n",
       "        text-align: right;\n",
       "    }\n",
       "</style>\n",
       "<table border=\"1\" class=\"dataframe\">\n",
       "  <thead>\n",
       "    <tr style=\"text-align: right;\">\n",
       "      <th></th>\n",
       "      <th>user</th>\n",
       "      <th>item</th>\n",
       "      <th>genre</th>\n",
       "      <th>title</th>\n",
       "      <th>director</th>\n",
       "    </tr>\n",
       "  </thead>\n",
       "  <tbody>\n",
       "    <tr>\n",
       "      <th>0</th>\n",
       "      <td>0</td>\n",
       "      <td>753</td>\n",
       "      <td>War</td>\n",
       "      <td>Bridge on the River Kwai The</td>\n",
       "      <td>nm0000180</td>\n",
       "    </tr>\n",
       "    <tr>\n",
       "      <th>1</th>\n",
       "      <td>0</td>\n",
       "      <td>2218</td>\n",
       "      <td>Crime</td>\n",
       "      <td>Big Sleep The</td>\n",
       "      <td>nm0001328</td>\n",
       "    </tr>\n",
       "    <tr>\n",
       "      <th>2</th>\n",
       "      <td>0</td>\n",
       "      <td>2435</td>\n",
       "      <td>Thriller</td>\n",
       "      <td>Rebecca</td>\n",
       "      <td>nm0000033</td>\n",
       "    </tr>\n",
       "    <tr>\n",
       "      <th>3</th>\n",
       "      <td>0</td>\n",
       "      <td>3977</td>\n",
       "      <td>Thriller</td>\n",
       "      <td>Getaway The</td>\n",
       "      <td>nm0001603</td>\n",
       "    </tr>\n",
       "    <tr>\n",
       "      <th>4</th>\n",
       "      <td>0</td>\n",
       "      <td>1071</td>\n",
       "      <td>Drama</td>\n",
       "      <td>Gandhi</td>\n",
       "      <td>nm0000277</td>\n",
       "    </tr>\n",
       "    <tr>\n",
       "      <th>...</th>\n",
       "      <td>...</td>\n",
       "      <td>...</td>\n",
       "      <td>...</td>\n",
       "      <td>...</td>\n",
       "      <td>...</td>\n",
       "    </tr>\n",
       "    <tr>\n",
       "      <th>16135953</th>\n",
       "      <td>31359</td>\n",
       "      <td>962</td>\n",
       "      <td>Comedy</td>\n",
       "      <td>O Brother Where Art Thou?</td>\n",
       "      <td>nm0001054</td>\n",
       "    </tr>\n",
       "    <tr>\n",
       "      <th>16135954</th>\n",
       "      <td>31359</td>\n",
       "      <td>494</td>\n",
       "      <td>Comedy</td>\n",
       "      <td>Bend It Like Beckham</td>\n",
       "      <td>nm0149446</td>\n",
       "    </tr>\n",
       "    <tr>\n",
       "      <th>16135955</th>\n",
       "      <td>31359</td>\n",
       "      <td>2650</td>\n",
       "      <td>Thriller</td>\n",
       "      <td>Third Man The</td>\n",
       "      <td>nm0715346</td>\n",
       "    </tr>\n",
       "    <tr>\n",
       "      <th>16135956</th>\n",
       "      <td>31359</td>\n",
       "      <td>1235</td>\n",
       "      <td>Romance</td>\n",
       "      <td>Forgetting Sarah Marshall</td>\n",
       "      <td>nm0831557</td>\n",
       "    </tr>\n",
       "    <tr>\n",
       "      <th>16135957</th>\n",
       "      <td>31360</td>\n",
       "      <td>0</td>\n",
       "      <td>0</td>\n",
       "      <td>0</td>\n",
       "      <td>0</td>\n",
       "    </tr>\n",
       "  </tbody>\n",
       "</table>\n",
       "<p>16135958 rows × 5 columns</p>\n",
       "</div>"
      ],
      "text/plain": [
       "           user  item     genre                          title   director\n",
       "0             0   753       War  Bridge on the River Kwai The   nm0000180\n",
       "1             0  2218     Crime                 Big Sleep The   nm0001328\n",
       "2             0  2435  Thriller                       Rebecca   nm0000033\n",
       "3             0  3977  Thriller                   Getaway The   nm0001603\n",
       "4             0  1071     Drama                        Gandhi   nm0000277\n",
       "...         ...   ...       ...                            ...        ...\n",
       "16135953  31359   962    Comedy     O Brother Where Art Thou?   nm0001054\n",
       "16135954  31359   494    Comedy          Bend It Like Beckham   nm0149446\n",
       "16135955  31359  2650  Thriller                 Third Man The   nm0715346\n",
       "16135956  31359  1235   Romance     Forgetting Sarah Marshall   nm0831557\n",
       "16135957  31360     0         0                              0          0\n",
       "\n",
       "[16135958 rows x 5 columns]"
      ]
     },
     "execution_count": 102,
     "metadata": {},
     "output_type": "execute_result"
    }
   ],
   "source": [
    "user_item_df"
   ]
  },
  {
   "cell_type": "code",
   "execution_count": 103,
   "metadata": {},
   "outputs": [
    {
     "data": {
      "text/plain": [
       "array([[0, 753, 'War', 'Bridge on the River Kwai The ', 'nm0000180'],\n",
       "       [0, 2218, 'Crime', 'Big Sleep The ', 'nm0001328'],\n",
       "       [0, 2435, 'Thriller', 'Rebecca ', 'nm0000033'],\n",
       "       ...,\n",
       "       [31359, 2650, 'Thriller', 'Third Man The ', 'nm0715346'],\n",
       "       [31359, 1235, 'Romance', 'Forgetting Sarah Marshall ',\n",
       "        'nm0831557'],\n",
       "       [31360, 0, '0', '0', '0']], dtype=object)"
      ]
     },
     "execution_count": 103,
     "metadata": {},
     "output_type": "execute_result"
    }
   ],
   "source": [
    "user_item = np.array(user_item_df)\n",
    "user_item"
   ]
  },
  {
   "cell_type": "code",
   "execution_count": 104,
   "metadata": {},
   "outputs": [],
   "source": [
    "user_item_list = []\n",
    "temp_item_list = []\n",
    "\n",
    "prev_user = 0\n",
    "prev_item =''\n",
    "\n",
    "for user, item, genre, title, director in user_item:\n",
    "    cur_user = user\n",
    "    if prev_user != cur_user:\n",
    "        user_item_list.append(temp_item_list)\n",
    "        temp_item_list = []\n",
    "        prev_item =''\n",
    "    \n",
    "    if prev_item != item:\n",
    "        temp_item_list.extend([item])\n",
    "\n",
    "    prev_user = cur_user\n",
    "    prev_item = item\n"
   ]
  },
  {
   "cell_type": "code",
   "execution_count": 105,
   "metadata": {},
   "outputs": [
    {
     "data": {
      "text/plain": [
       "344"
      ]
     },
     "execution_count": 105,
     "metadata": {},
     "output_type": "execute_result"
    }
   ],
   "source": [
    "len(user_item_list[0])"
   ]
  },
  {
   "cell_type": "markdown",
   "metadata": {},
   "source": [
    "### item_feature 생성 과정"
   ]
  },
  {
   "cell_type": "code",
   "execution_count": 106,
   "metadata": {},
   "outputs": [
    {
     "data": {
      "text/html": [
       "<div>\n",
       "<style scoped>\n",
       "    .dataframe tbody tr th:only-of-type {\n",
       "        vertical-align: middle;\n",
       "    }\n",
       "\n",
       "    .dataframe tbody tr th {\n",
       "        vertical-align: top;\n",
       "    }\n",
       "\n",
       "    .dataframe thead th {\n",
       "        text-align: right;\n",
       "    }\n",
       "</style>\n",
       "<table border=\"1\" class=\"dataframe\">\n",
       "  <thead>\n",
       "    <tr style=\"text-align: right;\">\n",
       "      <th></th>\n",
       "      <th>item</th>\n",
       "      <th>title</th>\n",
       "      <th>genre</th>\n",
       "      <th>director</th>\n",
       "    </tr>\n",
       "  </thead>\n",
       "  <tbody>\n",
       "    <tr>\n",
       "      <th>0</th>\n",
       "      <td>0</td>\n",
       "      <td>Planet of the Apes</td>\n",
       "      <td>Drama</td>\n",
       "      <td>nm0000318</td>\n",
       "    </tr>\n",
       "    <tr>\n",
       "      <th>1</th>\n",
       "      <td>0</td>\n",
       "      <td>Planet of the Apes</td>\n",
       "      <td>Adventure</td>\n",
       "      <td>nm0000318</td>\n",
       "    </tr>\n",
       "    <tr>\n",
       "      <th>2</th>\n",
       "      <td>0</td>\n",
       "      <td>Planet of the Apes</td>\n",
       "      <td>science_fiction</td>\n",
       "      <td>nm0000318</td>\n",
       "    </tr>\n",
       "    <tr>\n",
       "      <th>3</th>\n",
       "      <td>0</td>\n",
       "      <td>Planet of the Apes</td>\n",
       "      <td>Action</td>\n",
       "      <td>nm0000318</td>\n",
       "    </tr>\n",
       "    <tr>\n",
       "      <th>4</th>\n",
       "      <td>1</td>\n",
       "      <td>Hackers</td>\n",
       "      <td>Thriller</td>\n",
       "      <td>nm0812200</td>\n",
       "    </tr>\n",
       "    <tr>\n",
       "      <th>...</th>\n",
       "      <td>...</td>\n",
       "      <td>...</td>\n",
       "      <td>...</td>\n",
       "      <td>...</td>\n",
       "    </tr>\n",
       "    <tr>\n",
       "      <th>17096</th>\n",
       "      <td>6804</td>\n",
       "      <td>Rebound The</td>\n",
       "      <td>Romance</td>\n",
       "      <td>NaN</td>\n",
       "    </tr>\n",
       "    <tr>\n",
       "      <th>17097</th>\n",
       "      <td>6804</td>\n",
       "      <td>Rebound The</td>\n",
       "      <td>Comedy</td>\n",
       "      <td>NaN</td>\n",
       "    </tr>\n",
       "    <tr>\n",
       "      <th>17098</th>\n",
       "      <td>6805</td>\n",
       "      <td>Selma</td>\n",
       "      <td>Drama</td>\n",
       "      <td>NaN</td>\n",
       "    </tr>\n",
       "    <tr>\n",
       "      <th>17099</th>\n",
       "      <td>6806</td>\n",
       "      <td>Dickie Roberts Former Child Star</td>\n",
       "      <td>Comedy</td>\n",
       "      <td>nm0918873</td>\n",
       "    </tr>\n",
       "    <tr>\n",
       "      <th>17100</th>\n",
       "      <td>6807</td>\n",
       "      <td>0</td>\n",
       "      <td>0</td>\n",
       "      <td>0</td>\n",
       "    </tr>\n",
       "  </tbody>\n",
       "</table>\n",
       "<p>17101 rows × 4 columns</p>\n",
       "</div>"
      ],
      "text/plain": [
       "       item                              title            genre   director\n",
       "0         0                Planet of the Apes             Drama  nm0000318\n",
       "1         0                Planet of the Apes         Adventure  nm0000318\n",
       "2         0                Planet of the Apes   science_fiction  nm0000318\n",
       "3         0                Planet of the Apes            Action  nm0000318\n",
       "4         1                           Hackers          Thriller  nm0812200\n",
       "...     ...                                ...              ...        ...\n",
       "17096  6804                       Rebound The           Romance        NaN\n",
       "17097  6804                       Rebound The            Comedy        NaN\n",
       "17098  6805                             Selma             Drama        NaN\n",
       "17099  6806  Dickie Roberts Former Child Star            Comedy  nm0918873\n",
       "17100  6807                                  0                0          0\n",
       "\n",
       "[17101 rows x 4 columns]"
      ]
     },
     "execution_count": 106,
     "metadata": {},
     "output_type": "execute_result"
    }
   ],
   "source": [
    "item_user_df = pd.DataFrame.merge(new_title_df, gen, how='outer', on ='item')\n",
    "item_user_df = pd.DataFrame.merge(item_user_df, directors, how='outer', on='item')\n",
    "item_user_df = item_user_df.sort_values('item').append({'item':6807,'title':'0','genre':'0','director':'0'},ignore_index=True)\n",
    "item_user_df"
   ]
  },
  {
   "cell_type": "code",
   "execution_count": 107,
   "metadata": {},
   "outputs": [
    {
     "data": {
      "text/plain": [
       "array([[0, 'Planet of the Apes ', 'Drama', 'nm0000318'],\n",
       "       [0, 'Planet of the Apes ', 'Adventure', 'nm0000318'],\n",
       "       [0, 'Planet of the Apes ', 'science_fiction', 'nm0000318'],\n",
       "       ...,\n",
       "       [6805, 'Selma ', 'Drama', nan],\n",
       "       [6806, 'Dickie Roberts Former Child Star ', 'Comedy', 'nm0918873'],\n",
       "       [6807, '0', '0', '0']], dtype=object)"
      ]
     },
     "execution_count": 107,
     "metadata": {},
     "output_type": "execute_result"
    }
   ],
   "source": [
    "item_user = np.array(item_user_df.sort_values('item'))\n",
    "item_user"
   ]
  },
  {
   "cell_type": "code",
   "execution_count": 108,
   "metadata": {},
   "outputs": [],
   "source": [
    "item_genre_list = []\n",
    "item_title_list = []\n",
    "item_director_list = []\n",
    "item_list = [0]\n",
    "\n",
    "temp_movie_list = []\n",
    "temp_genre_list = []\n",
    "temp_title_list = []\n",
    "temp_director_list = []\n",
    "\n",
    "prev_item = 0\n",
    "prev_title = ''\n",
    "prev_director = ''\n",
    "prev_genre = ''\n",
    "for item, title, genre, director in item_user:\n",
    "    cur_item = item\n",
    "    if prev_item != cur_item:\n",
    "        item_genre_list.append(temp_genre_list)\n",
    "        item_title_list.append(temp_title_list)\n",
    "        item_director_list.append(temp_director_list)\n",
    "\n",
    "        temp_genre_list = []\n",
    "        temp_director_list = []\n",
    "        temp_title_list = []\n",
    "\n",
    "        prev_director = ''\n",
    "        prev_genre = ''\n",
    "        prev_title = ''\n",
    "    \n",
    "    if prev_genre != genre: \n",
    "        temp_genre_list.extend([genre])\n",
    "    \n",
    "    if prev_director != director:\n",
    "        temp_director_list.extend([director])\n",
    "    if prev_title != title:\n",
    "        temp_title_list.extend([title])\n",
    "    \n",
    "    prev_item = cur_item\n",
    "    prev_director = director\n",
    "    prev_title = title\n",
    "    prev_genre = genre\n"
   ]
  },
  {
   "cell_type": "code",
   "execution_count": 109,
   "metadata": {},
   "outputs": [],
   "source": [
    "literal_gen_item = []\n",
    "for i in item_genre_list:\n",
    "    literal_gen_item.extend([\" \".join(np.array(i).flatten())])"
   ]
  },
  {
   "cell_type": "code",
   "execution_count": 110,
   "metadata": {},
   "outputs": [
    {
     "data": {
      "text/html": [
       "<div>\n",
       "<style scoped>\n",
       "    .dataframe tbody tr th:only-of-type {\n",
       "        vertical-align: middle;\n",
       "    }\n",
       "\n",
       "    .dataframe tbody tr th {\n",
       "        vertical-align: top;\n",
       "    }\n",
       "\n",
       "    .dataframe thead th {\n",
       "        text-align: right;\n",
       "    }\n",
       "</style>\n",
       "<table border=\"1\" class=\"dataframe\">\n",
       "  <thead>\n",
       "    <tr style=\"text-align: right;\">\n",
       "      <th></th>\n",
       "      <th>0</th>\n",
       "    </tr>\n",
       "  </thead>\n",
       "  <tbody>\n",
       "    <tr>\n",
       "      <th>0</th>\n",
       "      <td>Drama Adventure science_fiction Action</td>\n",
       "    </tr>\n",
       "    <tr>\n",
       "      <th>1</th>\n",
       "      <td>Thriller Adventure Action Crime</td>\n",
       "    </tr>\n",
       "    <tr>\n",
       "      <th>2</th>\n",
       "      <td>Drama Children</td>\n",
       "    </tr>\n",
       "    <tr>\n",
       "      <th>3</th>\n",
       "      <td>Animation Children</td>\n",
       "    </tr>\n",
       "    <tr>\n",
       "      <th>4</th>\n",
       "      <td>Fantasy Adventure</td>\n",
       "    </tr>\n",
       "    <tr>\n",
       "      <th>...</th>\n",
       "      <td>...</td>\n",
       "    </tr>\n",
       "    <tr>\n",
       "      <th>6802</th>\n",
       "      <td>Drama Thriller</td>\n",
       "    </tr>\n",
       "    <tr>\n",
       "      <th>6803</th>\n",
       "      <td>Romance Comedy</td>\n",
       "    </tr>\n",
       "    <tr>\n",
       "      <th>6804</th>\n",
       "      <td>Comedy Romance</td>\n",
       "    </tr>\n",
       "    <tr>\n",
       "      <th>6805</th>\n",
       "      <td>Drama</td>\n",
       "    </tr>\n",
       "    <tr>\n",
       "      <th>6806</th>\n",
       "      <td>Comedy</td>\n",
       "    </tr>\n",
       "  </tbody>\n",
       "</table>\n",
       "<p>6807 rows × 1 columns</p>\n",
       "</div>"
      ],
      "text/plain": [
       "                                           0\n",
       "0     Drama Adventure science_fiction Action\n",
       "1            Thriller Adventure Action Crime\n",
       "2                             Drama Children\n",
       "3                         Animation Children\n",
       "4                          Fantasy Adventure\n",
       "...                                      ...\n",
       "6802                          Drama Thriller\n",
       "6803                          Romance Comedy\n",
       "6804                          Comedy Romance\n",
       "6805                                   Drama\n",
       "6806                                  Comedy\n",
       "\n",
       "[6807 rows x 1 columns]"
      ]
     },
     "execution_count": 110,
     "metadata": {},
     "output_type": "execute_result"
    }
   ],
   "source": [
    "item_genre_list_df = pd.DataFrame(literal_gen_item)\n",
    "item_genre_list_df"
   ]
  },
  {
   "cell_type": "code",
   "execution_count": 112,
   "metadata": {},
   "outputs": [],
   "source": [
    "literal_title_item = []\n",
    "flat_literal_title_item = []\n",
    "for i in item_title_list:\n",
    "    literal_title_item.extend([\"\".join(np.array(i).flatten())])\n"
   ]
  },
  {
   "cell_type": "code",
   "execution_count": 113,
   "metadata": {},
   "outputs": [
    {
     "data": {
      "text/html": [
       "<div>\n",
       "<style scoped>\n",
       "    .dataframe tbody tr th:only-of-type {\n",
       "        vertical-align: middle;\n",
       "    }\n",
       "\n",
       "    .dataframe tbody tr th {\n",
       "        vertical-align: top;\n",
       "    }\n",
       "\n",
       "    .dataframe thead th {\n",
       "        text-align: right;\n",
       "    }\n",
       "</style>\n",
       "<table border=\"1\" class=\"dataframe\">\n",
       "  <thead>\n",
       "    <tr style=\"text-align: right;\">\n",
       "      <th></th>\n",
       "      <th>0</th>\n",
       "    </tr>\n",
       "  </thead>\n",
       "  <tbody>\n",
       "    <tr>\n",
       "      <th>0</th>\n",
       "      <td>Planet of the Apes</td>\n",
       "    </tr>\n",
       "    <tr>\n",
       "      <th>1</th>\n",
       "      <td>Hackers</td>\n",
       "    </tr>\n",
       "    <tr>\n",
       "      <th>2</th>\n",
       "      <td>Secret Garden The</td>\n",
       "    </tr>\n",
       "    <tr>\n",
       "      <th>3</th>\n",
       "      <td>Aristocats The</td>\n",
       "    </tr>\n",
       "    <tr>\n",
       "      <th>4</th>\n",
       "      <td>Dark Crystal The</td>\n",
       "    </tr>\n",
       "    <tr>\n",
       "      <th>...</th>\n",
       "      <td>...</td>\n",
       "    </tr>\n",
       "    <tr>\n",
       "      <th>6802</th>\n",
       "      <td>Poison Ivy</td>\n",
       "    </tr>\n",
       "    <tr>\n",
       "      <th>6803</th>\n",
       "      <td>Other Woman The</td>\n",
       "    </tr>\n",
       "    <tr>\n",
       "      <th>6804</th>\n",
       "      <td>Rebound The</td>\n",
       "    </tr>\n",
       "    <tr>\n",
       "      <th>6805</th>\n",
       "      <td>Selma</td>\n",
       "    </tr>\n",
       "    <tr>\n",
       "      <th>6806</th>\n",
       "      <td>Dickie Roberts Former Child Star</td>\n",
       "    </tr>\n",
       "  </tbody>\n",
       "</table>\n",
       "<p>6807 rows × 1 columns</p>\n",
       "</div>"
      ],
      "text/plain": [
       "                                      0\n",
       "0                   Planet of the Apes \n",
       "1                              Hackers \n",
       "2                    Secret Garden The \n",
       "3                       Aristocats The \n",
       "4                     Dark Crystal The \n",
       "...                                 ...\n",
       "6802                        Poison Ivy \n",
       "6803                   Other Woman The \n",
       "6804                       Rebound The \n",
       "6805                             Selma \n",
       "6806  Dickie Roberts Former Child Star \n",
       "\n",
       "[6807 rows x 1 columns]"
      ]
     },
     "execution_count": 113,
     "metadata": {},
     "output_type": "execute_result"
    }
   ],
   "source": [
    "item_title_list_df = pd.DataFrame(literal_title_item)\n",
    "item_title_list_df"
   ]
  },
  {
   "cell_type": "code",
   "execution_count": 114,
   "metadata": {},
   "outputs": [],
   "source": [
    "literal_director_item = []\n",
    "for i in item_director_list:\n",
    "    try:\n",
    "        #print(newlist)\n",
    "        newlist = [x for x in i if str(x) != 'nan']\n",
    "        literal_director_item.extend([\" \".join(np.array(newlist))])\n",
    "    except:\n",
    "        print(i,\"에러!\", i[0] != i[0])"
   ]
  },
  {
   "cell_type": "code",
   "execution_count": 115,
   "metadata": {},
   "outputs": [
    {
     "data": {
      "text/html": [
       "<div>\n",
       "<style scoped>\n",
       "    .dataframe tbody tr th:only-of-type {\n",
       "        vertical-align: middle;\n",
       "    }\n",
       "\n",
       "    .dataframe tbody tr th {\n",
       "        vertical-align: top;\n",
       "    }\n",
       "\n",
       "    .dataframe thead th {\n",
       "        text-align: right;\n",
       "    }\n",
       "</style>\n",
       "<table border=\"1\" class=\"dataframe\">\n",
       "  <thead>\n",
       "    <tr style=\"text-align: right;\">\n",
       "      <th></th>\n",
       "      <th>0</th>\n",
       "    </tr>\n",
       "  </thead>\n",
       "  <tbody>\n",
       "    <tr>\n",
       "      <th>0</th>\n",
       "      <td>nm0000318</td>\n",
       "    </tr>\n",
       "    <tr>\n",
       "      <th>1</th>\n",
       "      <td>nm0812200</td>\n",
       "    </tr>\n",
       "    <tr>\n",
       "      <th>2</th>\n",
       "      <td>nm0002140</td>\n",
       "    </tr>\n",
       "    <tr>\n",
       "      <th>3</th>\n",
       "      <td>nm0718627</td>\n",
       "    </tr>\n",
       "    <tr>\n",
       "      <th>4</th>\n",
       "      <td>nm0000568 nm0001345 nm0000568 nm0001345</td>\n",
       "    </tr>\n",
       "    <tr>\n",
       "      <th>...</th>\n",
       "      <td>...</td>\n",
       "    </tr>\n",
       "    <tr>\n",
       "      <th>6802</th>\n",
       "      <td></td>\n",
       "    </tr>\n",
       "    <tr>\n",
       "      <th>6803</th>\n",
       "      <td>nm0001024</td>\n",
       "    </tr>\n",
       "    <tr>\n",
       "      <th>6804</th>\n",
       "      <td></td>\n",
       "    </tr>\n",
       "    <tr>\n",
       "      <th>6805</th>\n",
       "      <td></td>\n",
       "    </tr>\n",
       "    <tr>\n",
       "      <th>6806</th>\n",
       "      <td>nm0918873</td>\n",
       "    </tr>\n",
       "  </tbody>\n",
       "</table>\n",
       "<p>6807 rows × 1 columns</p>\n",
       "</div>"
      ],
      "text/plain": [
       "                                            0\n",
       "0                                   nm0000318\n",
       "1                                   nm0812200\n",
       "2                                   nm0002140\n",
       "3                                   nm0718627\n",
       "4     nm0000568 nm0001345 nm0000568 nm0001345\n",
       "...                                       ...\n",
       "6802                                         \n",
       "6803                                nm0001024\n",
       "6804                                         \n",
       "6805                                         \n",
       "6806                                nm0918873\n",
       "\n",
       "[6807 rows x 1 columns]"
      ]
     },
     "execution_count": 115,
     "metadata": {},
     "output_type": "execute_result"
    }
   ],
   "source": [
    "item_director_list_df = pd.DataFrame(literal_director_item)\n",
    "item_director_list_df"
   ]
  },
  {
   "cell_type": "markdown",
   "metadata": {},
   "source": [
    "### tf-idf를 이용하여 item_feature vector 생성"
   ]
  },
  {
   "cell_type": "code",
   "execution_count": 116,
   "metadata": {},
   "outputs": [],
   "source": [
    "from sklearn.feature_extraction.text import TfidfVectorizer\n",
    "\n",
    "tfidf_genre = TfidfVectorizer()\n",
    "tfidf_title = TfidfVectorizer()\n",
    "tfidf_director = TfidfVectorizer()"
   ]
  },
  {
   "cell_type": "code",
   "execution_count": 117,
   "metadata": {},
   "outputs": [],
   "source": [
    "item_gen_feature = tfidf_genre.fit_transform(literal_gen_item)\n",
    "item_title_feature = tfidf_title.fit_transform(literal_title_item)\n",
    "item_director_feature = tfidf_director.fit_transform(literal_director_item)"
   ]
  },
  {
   "cell_type": "code",
   "execution_count": 118,
   "metadata": {},
   "outputs": [
    {
     "name": "stdout",
     "output_type": "stream",
     "text": [
      "(6807, 18)\n",
      "(6807, 7353)\n",
      "(6807, 1340)\n"
     ]
    }
   ],
   "source": [
    "print(item_gen_feature.shape)\n",
    "print(item_title_feature.shape)\n",
    "print(item_director_feature.shape)"
   ]
  },
  {
   "cell_type": "code",
   "execution_count": 119,
   "metadata": {},
   "outputs": [
    {
     "data": {
      "text/plain": [
       "array([[0.48900021, 0.5497373 , 0.        , ..., 0.        , 0.        ,\n",
       "        0.        ],\n",
       "       [0.47777828, 0.53712153, 0.        , ..., 0.44899869, 0.        ,\n",
       "        0.        ],\n",
       "       [0.        , 0.        , 0.        , ..., 0.        , 0.        ,\n",
       "        0.        ],\n",
       "       ...,\n",
       "       [0.        , 0.        , 0.        , ..., 0.        , 0.        ,\n",
       "        0.        ],\n",
       "       [0.        , 0.        , 0.        , ..., 0.        , 0.        ,\n",
       "        0.        ],\n",
       "       [0.        , 0.        , 0.        , ..., 0.        , 0.        ,\n",
       "        0.        ]])"
      ]
     },
     "execution_count": 119,
     "metadata": {},
     "output_type": "execute_result"
    }
   ],
   "source": [
    "item_gen_feature.toarray()"
   ]
  },
  {
   "cell_type": "code",
   "execution_count": 120,
   "metadata": {},
   "outputs": [],
   "source": [
    "item_feature = np.concatenate((item_gen_feature.toarray(), item_title_feature.toarray()), axis=1)"
   ]
  },
  {
   "cell_type": "code",
   "execution_count": 121,
   "metadata": {},
   "outputs": [
    {
     "name": "stdout",
     "output_type": "stream",
     "text": [
      "31360\n",
      "(6807, 7371)\n"
     ]
    }
   ],
   "source": [
    "#user_feature 선언 해줘야할 부분\n",
    "print(len(user_item_list))\n",
    "print(item_feature.shape)"
   ]
  },
  {
   "cell_type": "markdown",
   "metadata": {},
   "source": [
    "### item_feature와 user별 시청 기록을 이용하여 user_feature 생성"
   ]
  },
  {
   "cell_type": "code",
   "execution_count": 123,
   "metadata": {},
   "outputs": [
    {
     "name": "stderr",
     "output_type": "stream",
     "text": [
      "31360it [05:30, 95.00it/s] \n"
     ]
    }
   ],
   "source": [
    "from tqdm import tqdm\n",
    "\n",
    "user_feature = []\n",
    "\n",
    "for user, itemlist in tqdm(enumerate(user_item_list)):\n",
    "    \n",
    "    user_feature.append(np.mean(item_feature[itemlist],axis=0))\n"
   ]
  },
  {
   "cell_type": "code",
   "execution_count": 124,
   "metadata": {},
   "outputs": [
    {
     "data": {
      "text/plain": [
       "(31360, 7371)"
      ]
     },
     "execution_count": 124,
     "metadata": {},
     "output_type": "execute_result"
    }
   ],
   "source": [
    "user_feature = np.array(user_feature)\n",
    "user_feature.shape"
   ]
  },
  {
   "cell_type": "code",
   "execution_count": 125,
   "metadata": {},
   "outputs": [
    {
     "name": "stdout",
     "output_type": "stream",
     "text": [
      "(31360, 7371)\n",
      "(6807, 7371)\n"
     ]
    }
   ],
   "source": [
    "print(user_feature.shape)\n",
    "print(item_feature.shape)\n"
   ]
  },
  {
   "cell_type": "code",
   "execution_count": 126,
   "metadata": {},
   "outputs": [
    {
     "name": "stdout",
     "output_type": "stream",
     "text": [
      "<class 'numpy.ndarray'> <class 'numpy.ndarray'>\n"
     ]
    }
   ],
   "source": [
    "print(type(user_feature), type(item_feature))"
   ]
  },
  {
   "cell_type": "markdown",
   "metadata": {},
   "source": [
    "### item_feature, user_feature 저장"
   ]
  },
  {
   "cell_type": "code",
   "execution_count": 127,
   "metadata": {},
   "outputs": [],
   "source": [
    "np.save('user_feature.npy',user_feature)\n",
    "np.save('item_feature.npy',item_feature)"
   ]
  }
 ],
 "metadata": {
  "kernelspec": {
   "display_name": "Python 3",
   "language": "python",
   "name": "python3"
  },
  "language_info": {
   "codemirror_mode": {
    "name": "ipython",
    "version": 3
   },
   "file_extension": ".py",
   "mimetype": "text/x-python",
   "name": "python",
   "nbconvert_exporter": "python",
   "pygments_lexer": "ipython3",
   "version": "3.8.5"
  }
 },
 "nbformat": 4,
 "nbformat_minor": 0
}
