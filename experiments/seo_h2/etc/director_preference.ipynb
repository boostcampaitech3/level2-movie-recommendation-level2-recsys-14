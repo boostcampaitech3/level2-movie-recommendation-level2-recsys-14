{
 "cells": [
  {
   "cell_type": "markdown",
   "metadata": {},
   "source": [
    "## 감독선호도 구하기"
   ]
  },
  {
   "cell_type": "code",
   "execution_count": null,
   "metadata": {},
   "outputs": [],
   "source": [
    "import pandas as pd\n",
    "import numpy as np"
   ]
  },
  {
   "cell_type": "code",
   "execution_count": null,
   "metadata": {},
   "outputs": [],
   "source": [
    "group10 = pd.read_csv(os.path.join('./group10.csv'))"
   ]
  },
  {
   "cell_type": "code",
   "execution_count": null,
   "metadata": {},
   "outputs": [
    {
     "data": {
      "text/html": [
       "<div>\n",
       "<style scoped>\n",
       "    .dataframe tbody tr th:only-of-type {\n",
       "        vertical-align: middle;\n",
       "    }\n",
       "\n",
       "    .dataframe tbody tr th {\n",
       "        vertical-align: top;\n",
       "    }\n",
       "\n",
       "    .dataframe thead th {\n",
       "        text-align: right;\n",
       "    }\n",
       "</style>\n",
       "<table border=\"1\" class=\"dataframe\">\n",
       "  <thead>\n",
       "    <tr style=\"text-align: right;\">\n",
       "      <th></th>\n",
       "      <th>director</th>\n",
       "      <th>user</th>\n",
       "      <th>time</th>\n",
       "      <th>rank</th>\n",
       "      <th>num_mov</th>\n",
       "      <th>dir_loyalty</th>\n",
       "    </tr>\n",
       "  </thead>\n",
       "  <tbody>\n",
       "    <tr>\n",
       "      <th>0</th>\n",
       "      <td>nm0000005</td>\n",
       "      <td>3201</td>\n",
       "      <td>10</td>\n",
       "      <td>73.0</td>\n",
       "      <td>19</td>\n",
       "      <td>52.631579</td>\n",
       "    </tr>\n",
       "    <tr>\n",
       "      <th>1</th>\n",
       "      <td>nm0000005</td>\n",
       "      <td>3284</td>\n",
       "      <td>12</td>\n",
       "      <td>46.0</td>\n",
       "      <td>19</td>\n",
       "      <td>63.157895</td>\n",
       "    </tr>\n",
       "    <tr>\n",
       "      <th>2</th>\n",
       "      <td>nm0000005</td>\n",
       "      <td>8405</td>\n",
       "      <td>17</td>\n",
       "      <td>9.0</td>\n",
       "      <td>19</td>\n",
       "      <td>89.473684</td>\n",
       "    </tr>\n",
       "    <tr>\n",
       "      <th>3</th>\n",
       "      <td>nm0000005</td>\n",
       "      <td>10098</td>\n",
       "      <td>10</td>\n",
       "      <td>74.0</td>\n",
       "      <td>19</td>\n",
       "      <td>52.631579</td>\n",
       "    </tr>\n",
       "    <tr>\n",
       "      <th>4</th>\n",
       "      <td>nm0000005</td>\n",
       "      <td>10286</td>\n",
       "      <td>11</td>\n",
       "      <td>54.0</td>\n",
       "      <td>19</td>\n",
       "      <td>57.894737</td>\n",
       "    </tr>\n",
       "    <tr>\n",
       "      <th>...</th>\n",
       "      <td>...</td>\n",
       "      <td>...</td>\n",
       "      <td>...</td>\n",
       "      <td>...</td>\n",
       "      <td>...</td>\n",
       "      <td>...</td>\n",
       "    </tr>\n",
       "    <tr>\n",
       "      <th>6501</th>\n",
       "      <td>nm0943758</td>\n",
       "      <td>119048</td>\n",
       "      <td>12</td>\n",
       "      <td>12.0</td>\n",
       "      <td>20</td>\n",
       "      <td>60.000000</td>\n",
       "    </tr>\n",
       "    <tr>\n",
       "      <th>6502</th>\n",
       "      <td>nm0943758</td>\n",
       "      <td>121870</td>\n",
       "      <td>15</td>\n",
       "      <td>4.0</td>\n",
       "      <td>20</td>\n",
       "      <td>75.000000</td>\n",
       "    </tr>\n",
       "    <tr>\n",
       "      <th>6503</th>\n",
       "      <td>nm0943758</td>\n",
       "      <td>127138</td>\n",
       "      <td>11</td>\n",
       "      <td>16.0</td>\n",
       "      <td>20</td>\n",
       "      <td>55.000000</td>\n",
       "    </tr>\n",
       "    <tr>\n",
       "      <th>6504</th>\n",
       "      <td>nm0943758</td>\n",
       "      <td>131904</td>\n",
       "      <td>11</td>\n",
       "      <td>17.0</td>\n",
       "      <td>20</td>\n",
       "      <td>55.000000</td>\n",
       "    </tr>\n",
       "    <tr>\n",
       "      <th>6505</th>\n",
       "      <td>nm0955443</td>\n",
       "      <td>8405</td>\n",
       "      <td>10</td>\n",
       "      <td>1.0</td>\n",
       "      <td>12</td>\n",
       "      <td>83.333333</td>\n",
       "    </tr>\n",
       "  </tbody>\n",
       "</table>\n",
       "<p>6506 rows × 6 columns</p>\n",
       "</div>"
      ],
      "text/plain": [
       "       director    user  time  rank  num_mov  dir_loyalty\n",
       "0     nm0000005    3201    10  73.0       19    52.631579\n",
       "1     nm0000005    3284    12  46.0       19    63.157895\n",
       "2     nm0000005    8405    17   9.0       19    89.473684\n",
       "3     nm0000005   10098    10  74.0       19    52.631579\n",
       "4     nm0000005   10286    11  54.0       19    57.894737\n",
       "...         ...     ...   ...   ...      ...          ...\n",
       "6501  nm0943758  119048    12  12.0       20    60.000000\n",
       "6502  nm0943758  121870    15   4.0       20    75.000000\n",
       "6503  nm0943758  127138    11  16.0       20    55.000000\n",
       "6504  nm0943758  131904    11  17.0       20    55.000000\n",
       "6505  nm0955443    8405    10   1.0       12    83.333333\n",
       "\n",
       "[6506 rows x 6 columns]"
      ]
     },
     "metadata": {},
     "output_type": "display_data"
    }
   ],
   "source": [
    "group10"
   ]
  },
  {
   "cell_type": "code",
   "execution_count": null,
   "metadata": {},
   "outputs": [
    {
     "data": {
      "text/plain": [
       "21"
      ]
     },
     "metadata": {},
     "output_type": "display_data"
    }
   ],
   "source": [
    "(group10.groupby('director')['dir_loyalty'].min() >= 80).sum()"
   ]
  },
  {
   "cell_type": "code",
   "execution_count": null,
   "metadata": {},
   "outputs": [],
   "source": [
    "temp= group10.groupby('director')['dir_loyalty'].min()\n",
    "temp=pd.DataFrame(temp)\n",
    "temp.reset_index(inplace=True)"
   ]
  },
  {
   "cell_type": "code",
   "execution_count": null,
   "metadata": {},
   "outputs": [],
   "source": [
    "# 최소 로열티가 80% 이상인 21명의 감독들\n",
    "dir_list= list(temp[pd.DataFrame(temp)['dir_loyalty'] >=80]['director'])"
   ]
  },
  {
   "cell_type": "code",
   "execution_count": null,
   "metadata": {},
   "outputs": [],
   "source": [
    "# 21명의 감독 영화를 10개 이상 본 509명의 maniac 유저들\n",
    "maniac= group10[group10['director'].isin(dir_list)][['director','user']]"
   ]
  },
  {
   "cell_type": "code",
   "execution_count": null,
   "metadata": {},
   "outputs": [],
   "source": [
    "director_data = pd.read_csv(os.path.join('./data/train/directors.tsv'), sep='\\t')"
   ]
  },
  {
   "cell_type": "code",
   "execution_count": null,
   "metadata": {},
   "outputs": [],
   "source": [
    "# 21명 감독의 item id 뽑기\n",
    "items= director_data[director_data['director'].isin(dir_list)]"
   ]
  },
  {
   "cell_type": "code",
   "execution_count": null,
   "metadata": {},
   "outputs": [],
   "source": [
    "# 각 유저가 선호하는 감독의 영화 id 붙인 프레임 생성\n",
    "pref_item= pd.merge(items,maniac,on='director',how='right')\n",
    "pref_item.drop('director',axis=1, inplace=True)\n",
    "\n",
    "# ID 변경\n",
    "pref_item= numerize(pref_item, profile2id, show2id)"
   ]
  },
  {
   "cell_type": "code",
   "execution_count": null,
   "metadata": {},
   "outputs": [],
   "source": [
    "# test용\n",
    "tp_tr = pd.read_csv(\"./data/train/pro_sg/test_te.csv\")\n",
    "pref_test= pref_item[pref_item['uid'].isin(tp_tr['uid'])]"
   ]
  },
  {
   "cell_type": "code",
   "execution_count": null,
   "metadata": {},
   "outputs": [],
   "source": [
    "# PREF ITEM inference용\n",
    "n_items = loader.load_n_items()\n",
    "n_users = 31360\n",
    "rows, cols = pref_item['uid'], pref_item['sid']\n",
    "pref_item= sparse.csr_matrix((np.ones_like(rows),\n",
    "                                 (rows, cols)), dtype='float64',\n",
    "                                 shape=(n_users, n_items))\n"
   ]
  },
  {
   "cell_type": "code",
   "execution_count": null,
   "metadata": {},
   "outputs": [],
   "source": [
    "# test용\n",
    "\n",
    "start_idx = tp_tr['uid'].min()\n",
    "end_idx = tp_tr['uid'].max()\n",
    "\n",
    "rows_tr, cols_tr = pref_test['uid'] - start_idx, pref_test['sid']\n",
    "\n",
    "pref_test = sparse.csr_matrix((np.ones_like(rows_tr),\n",
    "                            (rows_tr, cols_tr)), dtype='float64', shape=(end_idx - start_idx + 1, 6807))"
   ]
  },
  {
   "cell_type": "code",
   "execution_count": null,
   "metadata": {},
   "outputs": [
    {
     "name": "stdout",
     "output_type": "stream",
     "text": [
      "1.0\n"
     ]
    }
   ],
   "source": [
    "print(pref_item.toarray()[19629][1038])"
   ]
  },
  {
   "cell_type": "code",
   "execution_count": null,
   "metadata": {},
   "outputs": [],
   "source": [
    "# 1인 곳에 가중치 1.8\n",
    "pref_item0= pref_item.copy()\n",
    "pref_test0= pref_test.copy()\n",
    "\n",
    "pref_item0[pref_item0==1.0] *= 2\n",
    "pref_test0[pref_test0==1.0] *= 2"
   ]
  },
  {
   "cell_type": "code",
   "execution_count": null,
   "metadata": {},
   "outputs": [
    {
     "name": "stderr",
     "output_type": "stream",
     "text": [
      "/opt/conda/lib/python3.8/site-packages/IPython/core/interactiveshell.py:3361: SparseEfficiencyWarning: Comparing a sparse matrix with 0 using == is inefficient, try using != instead.\n",
      "  exec(code_obj, self.user_global_ns, self.user_ns)\n",
      "/opt/conda/lib/python3.8/site-packages/scipy/sparse/_index.py:146: SparseEfficiencyWarning: Changing the sparsity structure of a csr_matrix is expensive. lil_matrix is more efficient.\n",
      "  self._set_arrayXarray(i, j, x)\n"
     ]
    }
   ],
   "source": [
    "#0은 1로\n",
    "pref_item0[pref_item0==0] =1\n",
    "pref_test0[pref_test0==0] =1"
   ]
  },
  {
   "cell_type": "code",
   "execution_count": null,
   "metadata": {},
   "outputs": [
    {
     "data": {
      "text/plain": [
       "2.0"
      ]
     },
     "metadata": {},
     "output_type": "display_data"
    }
   ],
   "source": [
    "pref_item0.toarray()[19629][1038]"
   ]
  },
  {
   "cell_type": "code",
   "execution_count": null,
   "metadata": {},
   "outputs": [],
   "source": [
    "# array로 변경\n",
    "pref_item0= pref_item0.toarray()\n",
    "pref_test0= pref_test0.toarray()"
   ]
  },
  {
   "cell_type": "code",
   "execution_count": null,
   "metadata": {},
   "outputs": [],
   "source": [
    "with open('pref_item0.npy', 'wb')as f:\n",
    "    np.save(f, pref_item0)\n",
    "with open('pref_test0.npy', 'wb')as f:\n",
    "    np.save(f, pref_test0)"
   ]
  }
 ],
 "metadata": {
  "language_info": {
   "name": "python"
  },
  "orig_nbformat": 4
 },
 "nbformat": 4,
 "nbformat_minor": 2
}
