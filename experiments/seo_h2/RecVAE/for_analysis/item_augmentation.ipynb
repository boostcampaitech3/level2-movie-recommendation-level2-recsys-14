{
 "cells": [
  {
   "cell_type": "code",
   "execution_count": 3,
   "metadata": {},
   "outputs": [],
   "source": [
    "import numpy as np\n",
    "from sklearn.metrics import pairwise_distances\n",
    "import bottleneck as bn\n",
    "import pickle\n",
    "import pandas as pd"
   ]
  },
  {
   "cell_type": "code",
   "execution_count": 3,
   "metadata": {},
   "outputs": [],
   "source": [
    "with open('profile2id_check.pkl', 'rb') as f:\n",
    "    profile2id = pickle.load(f)\n",
    "\n",
    "with open('show2id_check.pkl', 'rb') as f:\n",
    "    show2id = pickle.load(f)\n",
    "    \n",
    "answer= pd.read_csv('/opt/ml/input/check_te.csv')\n",
    "recvae= torch.load('/opt/ml/input/code/RecVAE/recvae7.pt')\n",
    "emb= recvae.decoder.weight\n",
    "emb= emb.detach().cpu().numpy()"
   ]
  },
  {
   "cell_type": "code",
   "execution_count": 10,
   "metadata": {},
   "outputs": [],
   "source": [
    "re_p2id = dict((v, k) for k, v in profile2id.items())\n",
    "re_s2id = dict((v, k) for k, v in show2id.items())"
   ]
  },
  {
   "cell_type": "markdown",
   "metadata": {},
   "source": [
    "# 유사도 구하기"
   ]
  },
  {
   "cell_type": "code",
   "execution_count": 4,
   "metadata": {},
   "outputs": [],
   "source": [
    "sim= 1-pairwise_distances(emb, metric=\"cosine\")\n",
    "# 자기자신 제외\n",
    "sim[sim == 1]= -np.inf\n",
    "sim_item= np.argsort(-sim)[:,:10]"
   ]
  },
  {
   "cell_type": "code",
   "execution_count": 7,
   "metadata": {},
   "outputs": [
    {
     "data": {
      "text/plain": [
       "array([[  99,  100,  105, ...,  107,  124,  805],\n",
       "       [2238,  801, 1603, ..., 2131,  836, 2222],\n",
       "       [1046, 3252,  549, ...,  788,   39, 1911],\n",
       "       ...,\n",
       "       [2180, 6045, 4570, ..., 5256, 4241, 6068],\n",
       "       [6591, 6079, 3674, ..., 5835, 6642, 6089],\n",
       "       [5988, 3093, 5710, ..., 2001, 5278, 5285]])"
      ]
     },
     "execution_count": 7,
     "metadata": {},
     "output_type": "execute_result"
    }
   ],
   "source": [
    "# item id \n",
    "sim_item"
   ]
  },
  {
   "cell_type": "code",
   "execution_count": 11,
   "metadata": {},
   "outputs": [],
   "source": [
    "sim_df= pd.DataFrame(sim_item)\n",
    "for i in range(10):\n",
    "    sim_df[i]=sim_df[i].apply(lambda x: re_s2id[x])\n",
    "sim_df.reset_index(inplace=True)\n",
    "sim_df.rename({'index':'item'}, axis=1, inplace=True)\n",
    "sim_df['item']= sim_df['item'].apply(lambda x: re_s2id[x])"
   ]
  },
  {
   "cell_type": "code",
   "execution_count": 14,
   "metadata": {},
   "outputs": [
    {
     "data": {
      "text/html": [
       "<div>\n",
       "<style scoped>\n",
       "    .dataframe tbody tr th:only-of-type {\n",
       "        vertical-align: middle;\n",
       "    }\n",
       "\n",
       "    .dataframe tbody tr th {\n",
       "        vertical-align: top;\n",
       "    }\n",
       "\n",
       "    .dataframe thead th {\n",
       "        text-align: right;\n",
       "    }\n",
       "</style>\n",
       "<table border=\"1\" class=\"dataframe\">\n",
       "  <thead>\n",
       "    <tr style=\"text-align: right;\">\n",
       "      <th></th>\n",
       "      <th>item</th>\n",
       "      <th>0</th>\n",
       "      <th>1</th>\n",
       "      <th>2</th>\n",
       "      <th>3</th>\n",
       "      <th>4</th>\n",
       "      <th>5</th>\n",
       "      <th>6</th>\n",
       "      <th>7</th>\n",
       "      <th>8</th>\n",
       "      <th>9</th>\n",
       "    </tr>\n",
       "  </thead>\n",
       "  <tbody>\n",
       "    <tr>\n",
       "      <th>0</th>\n",
       "      <td>4643</td>\n",
       "      <td>4638</td>\n",
       "      <td>5171</td>\n",
       "      <td>8361</td>\n",
       "      <td>5459</td>\n",
       "      <td>6541</td>\n",
       "      <td>3826</td>\n",
       "      <td>4367</td>\n",
       "      <td>1544</td>\n",
       "      <td>8644</td>\n",
       "      <td>4370</td>\n",
       "    </tr>\n",
       "    <tr>\n",
       "      <th>1</th>\n",
       "      <td>170</td>\n",
       "      <td>2541</td>\n",
       "      <td>1479</td>\n",
       "      <td>4052</td>\n",
       "      <td>2105</td>\n",
       "      <td>2605</td>\n",
       "      <td>3717</td>\n",
       "      <td>327</td>\n",
       "      <td>724</td>\n",
       "      <td>1586</td>\n",
       "      <td>24</td>\n",
       "    </tr>\n",
       "    <tr>\n",
       "      <th>2</th>\n",
       "      <td>531</td>\n",
       "      <td>262</td>\n",
       "      <td>3104</td>\n",
       "      <td>60</td>\n",
       "      <td>362</td>\n",
       "      <td>2087</td>\n",
       "      <td>917</td>\n",
       "      <td>1022</td>\n",
       "      <td>2161</td>\n",
       "      <td>1032</td>\n",
       "      <td>2125</td>\n",
       "    </tr>\n",
       "    <tr>\n",
       "      <th>3</th>\n",
       "      <td>616</td>\n",
       "      <td>2078</td>\n",
       "      <td>1022</td>\n",
       "      <td>2087</td>\n",
       "      <td>2085</td>\n",
       "      <td>1029</td>\n",
       "      <td>2080</td>\n",
       "      <td>2096</td>\n",
       "      <td>1032</td>\n",
       "      <td>2018</td>\n",
       "      <td>1033</td>\n",
       "    </tr>\n",
       "    <tr>\n",
       "      <th>4</th>\n",
       "      <td>2140</td>\n",
       "      <td>1967</td>\n",
       "      <td>2193</td>\n",
       "      <td>2161</td>\n",
       "      <td>2139</td>\n",
       "      <td>3396</td>\n",
       "      <td>8974</td>\n",
       "      <td>2021</td>\n",
       "      <td>2968</td>\n",
       "      <td>327</td>\n",
       "      <td>2005</td>\n",
       "    </tr>\n",
       "    <tr>\n",
       "      <th>...</th>\n",
       "      <td>...</td>\n",
       "      <td>...</td>\n",
       "      <td>...</td>\n",
       "      <td>...</td>\n",
       "      <td>...</td>\n",
       "      <td>...</td>\n",
       "      <td>...</td>\n",
       "      <td>...</td>\n",
       "      <td>...</td>\n",
       "      <td>...</td>\n",
       "      <td>...</td>\n",
       "    </tr>\n",
       "    <tr>\n",
       "      <th>6802</th>\n",
       "      <td>3063</td>\n",
       "      <td>6981</td>\n",
       "      <td>5039</td>\n",
       "      <td>2514</td>\n",
       "      <td>6286</td>\n",
       "      <td>26750</td>\n",
       "      <td>6687</td>\n",
       "      <td>169</td>\n",
       "      <td>6592</td>\n",
       "      <td>611</td>\n",
       "      <td>2120</td>\n",
       "    </tr>\n",
       "    <tr>\n",
       "      <th>6803</th>\n",
       "      <td>110771</td>\n",
       "      <td>85790</td>\n",
       "      <td>2247</td>\n",
       "      <td>64114</td>\n",
       "      <td>27828</td>\n",
       "      <td>7759</td>\n",
       "      <td>2611</td>\n",
       "      <td>92243</td>\n",
       "      <td>5994</td>\n",
       "      <td>94405</td>\n",
       "      <td>90719</td>\n",
       "    </tr>\n",
       "    <tr>\n",
       "      <th>6804</th>\n",
       "      <td>79590</td>\n",
       "      <td>80860</td>\n",
       "      <td>4834</td>\n",
       "      <td>91978</td>\n",
       "      <td>6978</td>\n",
       "      <td>6992</td>\n",
       "      <td>86817</td>\n",
       "      <td>4190</td>\n",
       "      <td>2841</td>\n",
       "      <td>6986</td>\n",
       "      <td>36533</td>\n",
       "    </tr>\n",
       "    <tr>\n",
       "      <th>6805</th>\n",
       "      <td>118700</td>\n",
       "      <td>62137</td>\n",
       "      <td>83302</td>\n",
       "      <td>5049</td>\n",
       "      <td>117881</td>\n",
       "      <td>26391</td>\n",
       "      <td>48883</td>\n",
       "      <td>53906</td>\n",
       "      <td>25891</td>\n",
       "      <td>2247</td>\n",
       "      <td>3392</td>\n",
       "    </tr>\n",
       "    <tr>\n",
       "      <th>6806</th>\n",
       "      <td>6702</td>\n",
       "      <td>97057</td>\n",
       "      <td>1037</td>\n",
       "      <td>3851</td>\n",
       "      <td>2970</td>\n",
       "      <td>62250</td>\n",
       "      <td>103235</td>\n",
       "      <td>4340</td>\n",
       "      <td>44840</td>\n",
       "      <td>711</td>\n",
       "      <td>6559</td>\n",
       "    </tr>\n",
       "  </tbody>\n",
       "</table>\n",
       "<p>6807 rows × 11 columns</p>\n",
       "</div>"
      ],
      "text/plain": [
       "        item      0      1      2       3      4       5      6      7      8  \\\n",
       "0       4643   4638   5171   8361    5459   6541    3826   4367   1544   8644   \n",
       "1        170   2541   1479   4052    2105   2605    3717    327    724   1586   \n",
       "2        531    262   3104     60     362   2087     917   1022   2161   1032   \n",
       "3        616   2078   1022   2087    2085   1029    2080   2096   1032   2018   \n",
       "4       2140   1967   2193   2161    2139   3396    8974   2021   2968    327   \n",
       "...      ...    ...    ...    ...     ...    ...     ...    ...    ...    ...   \n",
       "6802    3063   6981   5039   2514    6286  26750    6687    169   6592    611   \n",
       "6803  110771  85790   2247  64114   27828   7759    2611  92243   5994  94405   \n",
       "6804   79590  80860   4834  91978    6978   6992   86817   4190   2841   6986   \n",
       "6805  118700  62137  83302   5049  117881  26391   48883  53906  25891   2247   \n",
       "6806    6702  97057   1037   3851    2970  62250  103235   4340  44840    711   \n",
       "\n",
       "          9  \n",
       "0      4370  \n",
       "1        24  \n",
       "2      2125  \n",
       "3      1033  \n",
       "4      2005  \n",
       "...     ...  \n",
       "6802   2120  \n",
       "6803  90719  \n",
       "6804  36533  \n",
       "6805   3392  \n",
       "6806   6559  \n",
       "\n",
       "[6807 rows x 11 columns]"
      ]
     },
     "execution_count": 14,
     "metadata": {},
     "output_type": "execute_result"
    }
   ],
   "source": [
    "sim_df"
   ]
  },
  {
   "cell_type": "markdown",
   "metadata": {},
   "source": [
    "유사도 순으로 나열한 10개의 아이템들이 기준 아이템과 유사한 영화가 맞는지, title과 genre 정보로 간단히 알아보았습니다. "
   ]
  },
  {
   "cell_type": "code",
   "execution_count": 15,
   "metadata": {},
   "outputs": [],
   "source": [
    "raw_data= pd.read_csv('/opt/ml/input/data/train/train_ratings.csv')\n",
    "title_data= pd.read_csv('/opt/ml/input/data/train/titles.tsv',sep='\\t')\n",
    "genre_data=  pd.read_csv('/opt/ml/input/data/train/genres.tsv',sep='\\t')\n"
   ]
  },
  {
   "cell_type": "code",
   "execution_count": 16,
   "metadata": {},
   "outputs": [],
   "source": [
    "genre_df= pd.DataFrame(genre_data.groupby('item')['genre'].apply(lambda x:[x]))\n",
    "genre_df.reset_index(inplace=True)\n",
    "num_answer= pd.DataFrame(raw_data.groupby('item')['user'].count()).reset_index().rename({'user':'num'}, axis=1)"
   ]
  },
  {
   "cell_type": "code",
   "execution_count": 18,
   "metadata": {},
   "outputs": [],
   "source": [
    "df= pd.merge(genre_df, title_data, on= 'item', how='right')\n",
    "df= pd.merge(df, num_answer, on='item', how='left')"
   ]
  },
  {
   "cell_type": "code",
   "execution_count": 19,
   "metadata": {},
   "outputs": [
    {
     "name": "stdout",
     "output_type": "stream",
     "text": [
      "      item       genre                                     title  num\n",
      "3321  6702  [[Comedy]]  Dickie Roberts: Former Child Star (2003)   55\n",
      "       item                              genre            title  num\n",
      "6537  97057  [[Adventure, Documentary, Drama]]  Kon-Tiki (2012)   92\n",
      "     item                                 genre                      title  \\\n",
      "563  1037  [[Action, Horror, Sci-Fi, Thriller]]  Lawnmower Man, The (1992)   \n",
      "\n",
      "     num  \n",
      "563  463  \n",
      "      item       genre                           title  num\n",
      "2114  3851  [[Comedy]]  I'm the One That I Want (2000)   56\n",
      "      item                 genre                title  num\n",
      "1649  2970  [[Adventure, Drama]]  Fitzcarraldo (1982)  420\n",
      "       item             genre                      title  num\n",
      "5605  62250  [[Crime, Drama]]  Gomorrah (Gomorra) (2008)  224\n",
      "        item         genre                                          title  num\n",
      "6641  103235  [[Thriller]]  Best Offer, The (Migliore offerta, La) (2013)   96\n",
      "      item       genre               title  num\n",
      "2364  4340  [[Comedy]]  Animal, The (2001)  110\n",
      "       item       genre                     title  num\n",
      "4909  44840  [[Comedy]]  Benchwarmers, The (2006)  140\n",
      "     item                    genre           title  num\n",
      "399   711  [[Adventure, Children]]  Flipper (1996)   50\n"
     ]
    }
   ],
   "source": [
    "item= 6702\n",
    "print(df[df['item']==item])\n",
    "for i in range(9):\n",
    "    print(df[df.item == int(sim_df[sim_df['item']==item][i])])"
   ]
  },
  {
   "cell_type": "markdown",
   "metadata": {},
   "source": [
    "- 위의 정보로만 봤을 때, 어느정도 유사도가 높게 나오기에 우선 해당 유사도행렬로 아이템을 추가해보겠습니다."
   ]
  },
  {
   "cell_type": "markdown",
   "metadata": {},
   "source": [
    "# 유사도 기반 데이터 추가"
   ]
  },
  {
   "cell_type": "code",
   "execution_count": 20,
   "metadata": {},
   "outputs": [],
   "source": [
    "# 추천이 잘 안된 유저 아이디 불러오기\n",
    "X= pd.read_csv('/opt/ml/input/recvae_lowest_user.csv')"
   ]
  },
  {
   "cell_type": "code",
   "execution_count": 21,
   "metadata": {},
   "outputs": [],
   "source": [
    "low= pd.merge(X, raw_data, on='user', how='left')\n",
    "low_cnt= pd.DataFrame(low.groupby('user')['item'].count())\n",
    "low_cnt.reset_index(inplace=True)"
   ]
  },
  {
   "cell_type": "code",
   "execution_count": 22,
   "metadata": {},
   "outputs": [
    {
     "data": {
      "text/plain": [
       "count    4737.000000\n",
       "mean       85.563015\n",
       "std        55.862981\n",
       "min        22.000000\n",
       "25%        54.000000\n",
       "50%        67.000000\n",
       "75%        96.000000\n",
       "max       741.000000\n",
       "Name: item, dtype: float64"
      ]
     },
     "execution_count": 22,
     "metadata": {},
     "output_type": "execute_result"
    }
   ],
   "source": [
    "low_cnt['item'].describe()"
   ]
  },
  {
   "cell_type": "code",
   "execution_count": 31,
   "metadata": {},
   "outputs": [
    {
     "name": "stdout",
     "output_type": "stream",
     "text": [
      "4737\n",
      "1295\n"
     ]
    }
   ],
   "source": [
    "print(len(low_cnt))\n",
    "print(len(low_cnt[low_cnt['item']<=54]))"
   ]
  },
  {
   "cell_type": "markdown",
   "metadata": {},
   "source": [
    "<시도 내용>\n",
    "- 시청이력이 평균 이하인 유저들에게 학습 아이템을 추가하겠습니다. -> [결과 성능] recvae valid 기준 0.3996\n",
    "- 시청이력이 중위값 이하인 유저들에게 학습 아이템을 추가하겠습니다. -> [결과 성능] recvae valid 기준 0.3999\n",
    "- 25% 이하인 유저들에게 학습 아이템을 추가하겠습니다. "
   ]
  },
  {
   "cell_type": "code",
   "execution_count": 32,
   "metadata": {},
   "outputs": [],
   "source": [
    "low_user= low_cnt[low_cnt['item']<=54]['user'].values"
   ]
  },
  {
   "cell_type": "code",
   "execution_count": 105,
   "metadata": {},
   "outputs": [
    {
     "name": "stderr",
     "output_type": "stream",
     "text": [
      "/tmp/ipykernel_114627/663409294.py:1: SettingWithCopyWarning: \n",
      "A value is trying to be set on a copy of a slice from a DataFrame.\n",
      "Try using .loc[row_indexer,col_indexer] = value instead\n",
      "\n",
      "See the caveats in the documentation: https://pandas.pydata.org/pandas-docs/stable/user_guide/indexing.html#returning-a-view-versus-a-copy\n",
      "  add['item2']= add['item'].apply(lambda x: int(sim_df[sim_df['item']==x][8].values))\n",
      "/tmp/ipykernel_114627/663409294.py:2: SettingWithCopyWarning: \n",
      "A value is trying to be set on a copy of a slice from a DataFrame.\n",
      "Try using .loc[row_indexer,col_indexer] = value instead\n",
      "\n",
      "See the caveats in the documentation: https://pandas.pydata.org/pandas-docs/stable/user_guide/indexing.html#returning-a-view-versus-a-copy\n",
      "  add['item3']= add['item'].apply(lambda x: int(sim_df[sim_df['item']==x][9].values))\n"
     ]
    }
   ],
   "source": [
    "add= raw_data[raw_data['user'].isin(low_user)]\n",
    "add['item2']= add['item'].apply(lambda x: int(sim_df[sim_df['item']==x][8].values))\n",
    "add['item3']= add['item'].apply(lambda x: int(sim_df[sim_df['item']==x][9].values))"
   ]
  },
  {
   "cell_type": "code",
   "execution_count": 106,
   "metadata": {},
   "outputs": [
    {
     "name": "stderr",
     "output_type": "stream",
     "text": [
      "/opt/conda/lib/python3.8/site-packages/pandas/core/frame.py:4125: SettingWithCopyWarning: \n",
      "A value is trying to be set on a copy of a slice from a DataFrame\n",
      "\n",
      "See the caveats in the documentation: https://pandas.pydata.org/pandas-docs/stable/user_guide/indexing.html#returning-a-view-versus-a-copy\n",
      "  return super().rename(\n"
     ]
    }
   ],
   "source": [
    "add_df= add[['user','item2']]\n",
    "add_df.rename({'item2':'item'}, axis=1, inplace=True)\n",
    "raw_data2= pd.concat([raw_data, add_df], axis=0)"
   ]
  },
  {
   "cell_type": "code",
   "execution_count": 107,
   "metadata": {},
   "outputs": [],
   "source": [
    "add_df= add[['user','item3']]\n",
    "add_df.rename({'item3':'item'}, axis=1, inplace=True)\n",
    "raw_data2= pd.concat([raw_data2, add_df], axis=0)"
   ]
  },
  {
   "cell_type": "code",
   "execution_count": 108,
   "metadata": {},
   "outputs": [
    {
     "name": "stdout",
     "output_type": "stream",
     "text": [
      "증가 전: 5154471\n",
      "증가 후: 5281757\n"
     ]
    }
   ],
   "source": [
    "print('증가 전:', len(raw_data))\n",
    "print('증가 후:', len(raw_data2))"
   ]
  },
  {
   "cell_type": "markdown",
   "metadata": {},
   "source": [
    "학습 데이터로 넣어줄 train 셋에 새로운 데이터가 얼마나 들어가는지 보겠습니다."
   ]
  },
  {
   "cell_type": "code",
   "execution_count": 110,
   "metadata": {},
   "outputs": [],
   "source": [
    "train= pd.read_csv('/opt/ml/input/data/train/pro_sg/train.csv')"
   ]
  },
  {
   "cell_type": "code",
   "execution_count": 111,
   "metadata": {},
   "outputs": [
    {
     "data": {
      "text/plain": [
       "235"
      ]
     },
     "execution_count": 111,
     "metadata": {},
     "output_type": "execute_result"
    }
   ],
   "source": [
    "train[train['uid'].isin(low_user)]['uid'].nunique()"
   ]
  },
  {
   "cell_type": "markdown",
   "metadata": {},
   "source": [
    "235명의 유저에게 학습 아이템을 추가해주었습니다"
   ]
  },
  {
   "cell_type": "code",
   "execution_count": 114,
   "metadata": {},
   "outputs": [],
   "source": [
    "def numerize(tp, profile2id, show2id):\n",
    "    uid = tp['user'].apply(lambda x: profile2id[x])\n",
    "    sid = tp['item'].apply(lambda x: show2id[x])\n",
    "    return pd.DataFrame(data={'uid': uid, 'sid': sid}, columns=['uid', 'sid'])"
   ]
  },
  {
   "cell_type": "code",
   "execution_count": 115,
   "metadata": {},
   "outputs": [],
   "source": [
    "add_df=pd.concat([add[['user','item2']], add[['user','item3']].rename({'item3':'item2'}, axis=1)], axis=0)\n",
    "add_df.rename({'item2':'item'}, axis=1,inplace=True)\n",
    "\n",
    "add_df= numerize(add_df, profile2id, show2id)\n",
    "add_train= add_df[add_df['uid'].isin(train['uid'])]"
   ]
  },
  {
   "cell_type": "code",
   "execution_count": 117,
   "metadata": {},
   "outputs": [
    {
     "data": {
      "text/plain": [
       "99488"
      ]
     },
     "execution_count": 117,
     "metadata": {},
     "output_type": "execute_result"
    }
   ],
   "source": [
    "len(add_train)"
   ]
  },
  {
   "cell_type": "markdown",
   "metadata": {},
   "source": [
    "총 99488개의 아이템을 추가하겠습니다."
   ]
  },
  {
   "cell_type": "code",
   "execution_count": 118,
   "metadata": {},
   "outputs": [],
   "source": [
    "new_train= pd.concat([train, add_train], axis=0)"
   ]
  },
  {
   "cell_type": "code",
   "execution_count": 119,
   "metadata": {},
   "outputs": [
    {
     "name": "stdout",
     "output_type": "stream",
     "text": [
      "증가 전: 4168598\n",
      "증가 후: 4268086\n"
     ]
    }
   ],
   "source": [
    "print('증가 전:', len(train))\n",
    "print('증가 후:', len(new_train))"
   ]
  },
  {
   "cell_type": "code",
   "execution_count": 120,
   "metadata": {},
   "outputs": [],
   "source": [
    "new_train.to_csv('/opt/ml/input/data/train/pro_sg/train6.csv', index=False)"
   ]
  }
 ],
 "metadata": {
  "interpreter": {
   "hash": "d4d1e4263499bec80672ea0156c357c1ee493ec2b1c70f0acce89fc37c4a6abe"
  },
  "kernelspec": {
   "display_name": "Python 3.8.5 ('base')",
   "language": "python",
   "name": "python3"
  },
  "language_info": {
   "codemirror_mode": {
    "name": "ipython",
    "version": 3
   },
   "file_extension": ".py",
   "mimetype": "text/x-python",
   "name": "python",
   "nbconvert_exporter": "python",
   "pygments_lexer": "ipython3",
   "version": "3.8.5"
  },
  "orig_nbformat": 4
 },
 "nbformat": 4,
 "nbformat_minor": 2
}
