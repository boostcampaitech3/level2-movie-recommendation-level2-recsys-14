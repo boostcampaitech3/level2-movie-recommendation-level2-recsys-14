{
 "cells": [
  {
   "cell_type": "code",
   "execution_count": 1,
   "metadata": {},
   "outputs": [],
   "source": [
    "import pandas as pd\n",
    "import matplotlib.pyplot as plt\n",
    "import numpy as np\n",
    "from tqdm import tqdm\n",
    "import pickle"
   ]
  },
  {
   "cell_type": "markdown",
   "metadata": {},
   "source": [
    "# 데이터 준비\n",
    "## 데이터 불러오기"
   ]
  },
  {
   "cell_type": "code",
   "execution_count": 539,
   "metadata": {},
   "outputs": [],
   "source": [
    "recvae= pd.read_csv('/opt/ml/input/code/RecVAE/analysis_recvae50.csv') #유저 별 아이템 50개 추천한 csv파일\n",
    "hvamp= pd.read_csv('/opt/ml/input/hvamp_output.csv')\n",
    "tr= pd.read_csv('/opt/ml/input/data/train/pro_sg/check_tr.csv')\n",
    "recvae10= pd.read_csv('/opt/ml/input/analysis_tr.csv') #유저 별 아이템 10개 추천한 csv 파일"
   ]
  },
  {
   "cell_type": "code",
   "execution_count": 6,
   "metadata": {},
   "outputs": [],
   "source": [
    "with open('profile2id_check.pkl', 'rb') as f:\n",
    "    profile2id = pickle.load(f)\n",
    "\n",
    "with open('show2id_check.pkl', 'rb') as f:\n",
    "    show2id = pickle.load(f)"
   ]
  },
  {
   "cell_type": "code",
   "execution_count": 7,
   "metadata": {},
   "outputs": [],
   "source": [
    "re_p2id = dict((v, k) for k, v in profile2id.items())\n",
    "re_s2id = dict((v, k) for k, v in show2id.items())"
   ]
  },
  {
   "cell_type": "code",
   "execution_count": 540,
   "metadata": {},
   "outputs": [],
   "source": [
    "answer= pd.read_csv('/opt/ml/input/check_te.csv')\n",
    "def de_numerize(tp, re_p2id, re_s2id):\n",
    "    uid = tp['uid'].apply(lambda x: re_p2id[x])\n",
    "    sid = tp['sid'].apply(lambda x: re_s2id[x])\n",
    "    return pd.DataFrame(data={'uid': uid, 'sid': sid}, columns=['uid', 'sid'])\n",
    "\n",
    "answer = de_numerize(answer, re_p2id, re_s2id)\n",
    "answer.rename({'uid':'user'}, axis=1, inplace=True)\n",
    "answer.rename({'sid':'item'}, axis=1, inplace=True)"
   ]
  },
  {
   "cell_type": "code",
   "execution_count": 541,
   "metadata": {},
   "outputs": [],
   "source": [
    "tr = de_numerize(tr, re_p2id, re_s2id)\n",
    "tr.rename({'uid':'user'}, axis=1, inplace=True)\n",
    "tr.rename({'sid':'item'}, axis=1, inplace=True)"
   ]
  },
  {
   "cell_type": "markdown",
   "metadata": {},
   "source": [
    "## 지표 설정\n",
    "reranking의 효과를 미리 증명해보기 위한 지표를 recall@10값으로 설정했습니다."
   ]
  },
  {
   "cell_type": "code",
   "execution_count": 9,
   "metadata": {},
   "outputs": [],
   "source": [
    "# 유저별 recall 값 구하기\n",
    "from tqdm import tqdm\n",
    "\n",
    "recall_per_user = []\n",
    "index_user = sorted(recvae.user.value_counts().index.values)\n",
    "for x in tqdm(index_user):\n",
    "    item_list = recvae[recvae.user == x].item.values\n",
    "    cnt = 0\n",
    "    for ele in item_list:\n",
    "        if ele in answer[answer.user == x].item.values:\n",
    "            cnt += 1\n",
    "    recall_per_user.append(cnt / np.minimum(10, len(answer[answer.user == x])))"
   ]
  },
  {
   "cell_type": "code",
   "execution_count": 542,
   "metadata": {},
   "outputs": [],
   "source": [
    "with open('recall_per_user.pkl', 'wb') as f:\n",
    "    pickle.dump(recall_per_user,f)\n",
    "\n",
    "with open('recall_per_user.pkl', 'rb') as f:\n",
    "    recall_per_user= pickle.load(f)"
   ]
  },
  {
   "cell_type": "code",
   "execution_count": 3,
   "metadata": {},
   "outputs": [],
   "source": [
    "lowest_result_users=  pd.read_csv('recvae_lowest_user.csv')"
   ]
  },
  {
   "cell_type": "code",
   "execution_count": 11,
   "metadata": {},
   "outputs": [],
   "source": [
    "index_user = sorted(recvae.user.value_counts().index.values)"
   ]
  },
  {
   "cell_type": "code",
   "execution_count": 12,
   "metadata": {},
   "outputs": [
    {
     "name": "stdout",
     "output_type": "stream",
     "text": [
      "최소:  0.0\n",
      "최대:  1.0\n",
      "평균:  0.4086554502753482\n"
     ]
    }
   ],
   "source": [
    "print('최소: ', min(recall_per_user))\n",
    "print('최대: ', max(recall_per_user))\n",
    "print('평균: ', np.mean(recall_per_user))"
   ]
  },
  {
   "cell_type": "markdown",
   "metadata": {},
   "source": [
    "- 원래대로 10개의 아이템을 추천한 데이터셋의 recall값은 약 0.409입니다."
   ]
  },
  {
   "cell_type": "markdown",
   "metadata": {},
   "source": [
    "## 추천이 잘 안된 유저군 추출"
   ]
  },
  {
   "cell_type": "code",
   "execution_count": 543,
   "metadata": {},
   "outputs": [],
   "source": [
    "all_result = pd.DataFrame([index_user, recall_per_user]).T\n",
    "all_result.columns = ['user', 'recall@10']"
   ]
  },
  {
   "cell_type": "code",
   "execution_count": 544,
   "metadata": {},
   "outputs": [
    {
     "name": "stdout",
     "output_type": "stream",
     "text": [
      "14115\n",
      "11704\n",
      "5541\n"
     ]
    }
   ],
   "source": [
    "low_result = all_result[all_result['recall@10'] < 0.4]\n",
    "mid_result = all_result[(all_result['recall@10'] >= 0.4) & (all_result['recall@10'] < 0.7)]\n",
    "good_result = all_result[(all_result['recall@10'] >= 0.7) & (all_result['recall@10'] <= 1)]\n",
    "\n",
    "print(len(low_result))\n",
    "print(len(mid_result))\n",
    "print(len(good_result))"
   ]
  },
  {
   "cell_type": "code",
   "execution_count": 545,
   "metadata": {},
   "outputs": [
    {
     "name": "stderr",
     "output_type": "stream",
     "text": [
      "/opt/conda/lib/python3.8/site-packages/pandas/core/generic.py:5303: SettingWithCopyWarning: \n",
      "A value is trying to be set on a copy of a slice from a DataFrame.\n",
      "Try using .loc[row_indexer,col_indexer] = value instead\n",
      "\n",
      "See the caveats in the documentation: https://pandas.pydata.org/pandas-docs/stable/user_guide/indexing.html#returning-a-view-versus-a-copy\n",
      "  self[name] = value\n"
     ]
    },
    {
     "data": {
      "text/plain": [
       "4737"
      ]
     },
     "execution_count": 545,
     "metadata": {},
     "output_type": "execute_result"
    }
   ],
   "source": [
    "# 일단 0.15 미만 찾아보기\n",
    "lowest_result = low_result[low_result['recall@10'] <= 0.15]\n",
    "lowest_result.user = lowest_result.user.astype('int')\n",
    "lowest_result_users = lowest_result.user.values\n",
    "lowest_reco_result =recvae[recvae.user.isin(lowest_result_users)]\n",
    "lowest_result_users\n",
    "len(lowest_result_users)"
   ]
  },
  {
   "cell_type": "code",
   "execution_count": 546,
   "metadata": {},
   "outputs": [
    {
     "data": {
      "text/plain": [
       "array([    43,     72,     77, ..., 138456, 138459, 138470])"
      ]
     },
     "execution_count": 546,
     "metadata": {},
     "output_type": "execute_result"
    }
   ],
   "source": [
    "lowest_result_users"
   ]
  },
  {
   "cell_type": "code",
   "execution_count": 547,
   "metadata": {},
   "outputs": [],
   "source": [
    "good_result.user = good_result.user.astype('int')\n",
    "best_result_users = good_result.user.values\n",
    "best_reco_result = recvae[recvae.user.isin(best_result_users)]"
   ]
  },
  {
   "cell_type": "code",
   "execution_count": 548,
   "metadata": {},
   "outputs": [],
   "source": [
    "raw_data = pd.read_csv('/opt/ml/input/data/train/train_ratings.csv')"
   ]
  },
  {
   "cell_type": "markdown",
   "metadata": {},
   "source": [
    "# 추천이 잘 안된 유저군 분석\n",
    "- 편의상 추천이 잘 안된 유저군은 bad user라고 지칭하겠습니다\n",
    "- recall@10이 0.1보다 낮은 유저\n",
    "- 추천이 잘된 유저군 best_reco_result와 비교하며 분석하기"
   ]
  },
  {
   "cell_type": "code",
   "execution_count": 105,
   "metadata": {},
   "outputs": [
    {
     "name": "stdout",
     "output_type": "stream",
     "text": [
      "164회 미만의 평점이력을 가진 유저들이 lowest result users에 속할 확률: 0.20918343195266273\n",
      "164회 미만의 평점이력을 가진 유저들이 best result users에 속할 확률: 0.057514792899408286\n"
     ]
    }
   ],
   "source": [
    "#164회 미만의 평점이력을 가진 유저들이 lowest result users에 속할 확률\n",
    "a = raw_data.groupby('user').size()\n",
    "b = a[a.values <np.mean(a)]\n",
    "total= raw_data['user'].nunique()\n",
    "print('164회 미만의 평점이력을 가진 유저들이 lowest result users에 속할 확률:', (sum(b.index.isin(lowest_result_users)) /len(b)))\n",
    "print('164회 미만의 평점이력을 가진 유저들이 best result users에 속할 확률:', (sum(b.index.isin(best_result_users)) / len(b)))"
   ]
  },
  {
   "cell_type": "code",
   "execution_count": 18,
   "metadata": {},
   "outputs": [],
   "source": [
    "low_ans= answer[answer['user'].isin(lowest_reco_result.user.unique())]\n",
    "best_ans= answer[answer['user'].isin(best_reco_result.user.unique())]"
   ]
  },
  {
   "cell_type": "code",
   "execution_count": 19,
   "metadata": {},
   "outputs": [
    {
     "name": "stdout",
     "output_type": "stream",
     "text": [
      "recall이 낮은 유저군에서 예측한 아이템 수: 3047\n",
      "recall이 낮은 유저군에서 실제 아이템 수: 6104\n"
     ]
    }
   ],
   "source": [
    "print('recall이 낮은 유저군에서 예측한 아이템 수:', lowest_reco_result['item'].nunique())\n",
    "print('recall이 낮은 유저군에서 실제 아이템 수:', low_ans.item.nunique())"
   ]
  },
  {
   "cell_type": "code",
   "execution_count": 20,
   "metadata": {},
   "outputs": [
    {
     "name": "stdout",
     "output_type": "stream",
     "text": [
      "recall이 높은 유저군에서 예측한 아이템 수: 1932\n",
      "recall이 높은 유저군에서 실제 아이템 수: 6783\n"
     ]
    }
   ],
   "source": [
    "print('recall이 높은 유저군에서 예측한 아이템 수:', best_reco_result['item'].nunique())\n",
    "print('recall이 높은 유저군에서 실제 아이템 수:', best_ans.item.nunique())"
   ]
  },
  {
   "cell_type": "markdown",
   "metadata": {},
   "source": [
    "- 두 유저군 모두 실제 아이템 수에 비해 훨씬 적은 수의 아이템을 추천하고 있습니다"
   ]
  },
  {
   "cell_type": "markdown",
   "metadata": {},
   "source": [
    "## 가설: bad user군은 인기있는 영화를 주로 볼 것이다."
   ]
  },
  {
   "cell_type": "code",
   "execution_count": 34,
   "metadata": {},
   "outputs": [],
   "source": [
    "raw_item= raw_data.groupby('item')['time'].count()\n",
    "raw_item= pd.DataFrame(raw_item)\n",
    "raw_item.reset_index(inplace=True)"
   ]
  },
  {
   "cell_type": "code",
   "execution_count": null,
   "metadata": {},
   "outputs": [
    {
     "data": {
      "text/plain": [
       "count     6807.000000\n",
       "mean       757.230939\n",
       "std       1682.973090\n",
       "min         27.000000\n",
       "25%         90.000000\n",
       "50%        197.000000\n",
       "75%        610.500000\n",
       "max      19699.000000\n",
       "Name: time, dtype: float64"
      ]
     },
     "execution_count": 117,
     "metadata": {},
     "output_type": "execute_result"
    }
   ],
   "source": [
    "raw_item['time'].describe()"
   ]
  },
  {
   "cell_type": "code",
   "execution_count": 46,
   "metadata": {},
   "outputs": [
    {
     "name": "stdout",
     "output_type": "stream",
     "text": [
      "757이상 시청 횟수인 아이템 수:  1448\n",
      "757보다 작은 시청 횟수인 아이템 수:  4656\n",
      "757이상 시청 횟수인 실제 아이템 비중:  0.23722149410222804\n"
     ]
    }
   ],
   "source": [
    "# [lowest]추천 아이템 평균과 비교\n",
    "standard = 757\n",
    "high_mean = 0\n",
    "low_mean = 0\n",
    "temp= low_ans.item.value_counts().index\n",
    "for i,x in enumerate(temp):\n",
    "    if int(raw_item[raw_item.item==x]['time'].values) < standard:\n",
    "        low_mean += 1\n",
    "    else:\n",
    "        high_mean += 1\n",
    "\n",
    "print(f'{standard}이상 시청 횟수인 아이템 수: ', high_mean)\n",
    "print(f'{standard}보다 작은 시청 횟수인 아이템 수: ', low_mean)\n",
    "print(f'{standard}이상 시청 횟수인 실제 아이템 비중: ', high_mean/(high_mean+low_mean))"
   ]
  },
  {
   "cell_type": "code",
   "execution_count": null,
   "metadata": {},
   "outputs": [
    {
     "name": "stdout",
     "output_type": "stream",
     "text": [
      "757이상 시청 횟수인 아이템 수:  1448\n",
      "757보다 작은 시청 횟수인 아이템 수:  5335\n",
      "757이상 시청 횟수인 실제 아이템 비중:  0.2134748636296624\n"
     ]
    }
   ],
   "source": [
    "# [best]\n",
    "high_mean = 0\n",
    "low_mean = 0\n",
    "temp= best_ans.item.value_counts().index\n",
    "for i,x in enumerate(temp):\n",
    "    if int(raw_item[raw_item.item==x]['time'].values) < standard:\n",
    "        low_mean += 1\n",
    "    else:\n",
    "        high_mean += 1\n",
    "\n",
    "print(f'{standard}이상 시청 횟수인 아이템 수: ', high_mean)\n",
    "print(f'{standard}보다 작은 시청 횟수인 아이템 수: ', low_mean)\n",
    "print(f'{standard}이상 시청 횟수인 실제 아이템 비중: ', high_mean/(high_mean+low_mean))"
   ]
  },
  {
   "cell_type": "markdown",
   "metadata": {},
   "source": [
    "- 미세한 차이지만 bad user가 인기있는 영화를 더 많이 봤습니다. \n",
    "- 평균 이상의 평점횟수를 가진 영화에 bad user군이 더 많이 평점 매겼음을 알 수 있습니다.\n",
    "\n",
    "\n",
    "-> 그러나 인기도를 rule based model의 요소로 사용하기에는 비율에 큰 차이가 없기 때문에 적용하긴 어려울 것으로 보입니다."
   ]
  },
  {
   "cell_type": "markdown",
   "metadata": {},
   "source": [
    "### Recvae 모델에서 bad user에겐 인기있는(평균시청이력 보다 높은) 영화가 추천될까?"
   ]
  },
  {
   "cell_type": "code",
   "execution_count": 47,
   "metadata": {},
   "outputs": [
    {
     "name": "stdout",
     "output_type": "stream",
     "text": [
      "757이상 시청 횟수인 아이템 수:  1135\n",
      "757보다 작은 시청 횟수인 아이템 수:  546\n",
      "757이상 시청 횟수인 아이템을 추천할 확률:  0.6751933372992267\n"
     ]
    }
   ],
   "source": [
    "## 인기있는 영화들 고르기\n",
    "standard= 757\n",
    "\n",
    "# [lowest]추천 아이템 평균과 비교\n",
    "high_mean = 0\n",
    "low_mean = 0\n",
    "temp= lowest_reco_result.item.value_counts().index\n",
    "for i,x in enumerate(temp):\n",
    "    if int(raw_item[raw_item.item==x]['time'].values) < standard:\n",
    "        low_mean += 1\n",
    "    else:\n",
    "        high_mean += 1\n",
    "\n",
    "print(f'{standard}이상 시청 횟수인 아이템 수: ', high_mean)\n",
    "print(f'{standard}보다 작은 시청 횟수인 아이템 수: ', low_mean)\n",
    "print(f'{standard}이상 시청 횟수인 아이템을 추천할 확률: ', high_mean/(high_mean+low_mean))"
   ]
  },
  {
   "cell_type": "code",
   "execution_count": 48,
   "metadata": {},
   "outputs": [
    {
     "name": "stdout",
     "output_type": "stream",
     "text": [
      "757이상 시청 횟수인 아이템 수:  895\n",
      "757보다 작은 시청 횟수인 아이템 수:  99\n",
      "757이상 시청 횟수인 아이템을 추천할 확률:  0.9004024144869215\n"
     ]
    }
   ],
   "source": [
    "# [best]추천 아이템 평균과 비교\n",
    "high_mean = 0\n",
    "low_mean = 0\n",
    "temp= best_reco_result.item.value_counts().index\n",
    "for i,x in enumerate(temp):\n",
    "    if int(raw_item[raw_item.item==x]['time'].values) < standard:\n",
    "        low_mean += 1\n",
    "    else:\n",
    "        high_mean += 1\n",
    "        \n",
    "\n",
    "print(f'{standard}이상 시청 횟수인 아이템 수: ', high_mean)\n",
    "print(f'{standard}보다 작은 시청 횟수인 아이템 수: ', low_mean)\n",
    "print(f'{standard}이상 시청 횟수인 아이템을 추천할 확률: ', high_mean/(high_mean+low_mean))"
   ]
  },
  {
   "cell_type": "markdown",
   "metadata": {},
   "source": [
    "- 실제값과는 다르게 recvae모델은 인기있는 영화를 90%의 확률로 추천하는 유저군을 잘 맞춘 유저군으로 분류하고 있습니다.\n",
    "- 그렇다면 recvae에서 추천된 모든 아이템들이 실제 유저군이 소비한 아이템 중 인기있는 아이템들을 주로 추천한 것일까?\n",
    "    - 그래서 평균이상의 평점을 매긴 영화들을 많이 추천했을 때 recall 값이 높게 나온걸까?\n",
    "    - 만일 그렇다면 써니가 EDA해주신 것처럼 recvae역시 인기가 많은 영화들만 추천 결과로 제시하고 있는 것일 확률이 클것입니다."
   ]
  },
  {
   "cell_type": "code",
   "execution_count": 23,
   "metadata": {},
   "outputs": [],
   "source": [
    "ans= pd.DataFrame(answer.item.value_counts())\n",
    "rec= pd.DataFrame(recvae.item.value_counts())\n",
    "\n",
    "ans.reset_index(inplace=True)\n",
    "rec.reset_index(inplace=True)"
   ]
  },
  {
   "cell_type": "code",
   "execution_count": 24,
   "metadata": {},
   "outputs": [],
   "source": [
    "total_temp= pd.merge(ans, rec, on='index', how='left')\n",
    "# total_temp.fillna(0, inplace=True)"
   ]
  },
  {
   "cell_type": "code",
   "execution_count": 52,
   "metadata": {},
   "outputs": [
    {
     "data": {
      "text/plain": [
       "[]"
      ]
     },
     "execution_count": 52,
     "metadata": {},
     "output_type": "execute_result"
    },
    {
     "data": {
      "image/png": "[encoded data removed]",
      "text/plain": [
       "<Figure size 720x1080 with 1 Axes>"
      ]
     },
     "metadata": {
      "needs_background": "light"
     },
     "output_type": "display_data"
    }
   ],
   "source": [
    "plt.figure(figsize=(10,15))\n",
    "plt.hist(total_temp['item_y'], color = 'green', alpha = 0.2, bins = 50, label = 'best', density = True)\n",
    "plt.hist(total_temp['item_x'], color = 'red', alpha = 0.2, bins = 50, label = 'original', density = True)\n",
    "plt.plot()"
   ]
  },
  {
   "cell_type": "markdown",
   "metadata": {},
   "source": [
    "- 예상한대로 인기있는 아이템의 경우(빨강) 모델이 해당 아이템들을 더 많이 추천(초록)하는 모습을 볼 수 있습니다.\n",
    "- 그러나 극초반의 인기 아이템을 제외한 아이템들에 대해서는 추천이 잘 되지 않는 모습을 볼 수 있습니다."
   ]
  },
  {
   "cell_type": "markdown",
   "metadata": {},
   "source": [
    "# 추천이 안되는 유저와 잘되는 유저 비교 분석"
   ]
  },
  {
   "cell_type": "code",
   "execution_count": 549,
   "metadata": {},
   "outputs": [],
   "source": [
    "# recvae에서 추천이 안된 아이템들 -> total_temp에서 item_y가 nan값인 애들\n",
    "rec_x= total_temp[total_temp['item_y'].isna()]['index']"
   ]
  },
  {
   "cell_type": "code",
   "execution_count": 550,
   "metadata": {},
   "outputs": [
    {
     "data": {
      "text/plain": [
       "4737"
      ]
     },
     "execution_count": 550,
     "metadata": {},
     "output_type": "execute_result"
    }
   ],
   "source": [
    "len(set(lowest_result_users))"
   ]
  },
  {
   "cell_type": "code",
   "execution_count": 30,
   "metadata": {},
   "outputs": [
    {
     "data": {
      "text/plain": [
       "31360"
      ]
     },
     "execution_count": 30,
     "metadata": {},
     "output_type": "execute_result"
    }
   ],
   "source": [
    "len(set(answer.user))"
   ]
  },
  {
   "cell_type": "markdown",
   "metadata": {},
   "source": [
    "lowest user에서 원래 해당 유저가 평점매긴 아이템과 추천된 아이템들의 차이를 살펴보겠습니다.\n",
    "\n",
    "비교하기 편하도록 영화의 제목과 그 영화를 본 유저 수, 장르를 열로 추가합니다."
   ]
  },
  {
   "cell_type": "code",
   "execution_count": null,
   "metadata": {},
   "outputs": [],
   "source": [
    "title_data= pd.read_csv('/opt/ml/input/data/train/titles.tsv',sep='\\t')\n",
    "genre_data=  pd.read_csv('/opt/ml/input/data/train/genres.tsv',sep='\\t')\n",
    "genre_df= pd.DataFrame(genre_data.groupby('item')['genre'].apply(lambda x:[x]))\n",
    "genre_df.reset_index(inplace=True)"
   ]
  },
  {
   "cell_type": "code",
   "execution_count": 552,
   "metadata": {},
   "outputs": [],
   "source": [
    "dir_data= pd.read_csv('/opt/ml/input/data/train/directors.tsv',sep='\\t')\n",
    "dir_df= pd.DataFrame(dir_data.groupby('item')['director'].apply(lambda x:[x]))\n",
    "dir_df.reset_index(inplace=True)"
   ]
  },
  {
   "cell_type": "code",
   "execution_count": 553,
   "metadata": {},
   "outputs": [],
   "source": [
    "answer= pd.read_csv('/opt/ml/input/check_te.csv')\n",
    "answer = de_numerize(answer, re_p2id, re_s2id)\n",
    "answer.rename({'uid':'user'}, axis=1, inplace=True)\n",
    "answer.rename({'sid':'item'}, axis=1, inplace=True)"
   ]
  },
  {
   "cell_type": "code",
   "execution_count": 554,
   "metadata": {},
   "outputs": [],
   "source": [
    "low_answer= answer[answer.user.isin(lowest_result_users)]\n",
    "low_tr= tr[tr.user.isin(lowest_result_users)]\n",
    "best_answer= answer[answer.user.isin(best_result_users)]\n",
    "best_tr= tr[tr.user.isin(best_result_users)]"
   ]
  },
  {
   "cell_type": "code",
   "execution_count": 555,
   "metadata": {},
   "outputs": [],
   "source": [
    "num_answer= pd.DataFrame(answer.groupby('item')['user'].count()).reset_index().rename({'user':'num'}, axis=1)\n",
    "\n",
    "low_answer= pd.merge(low_answer, title_data, on='item', how= 'left')\n",
    "low_answer= pd.merge(low_answer, num_answer, on='item', how='left')\n",
    "low_answer= pd.merge(low_answer, genre_df, on='item', how='left')\n",
    "low_answer= pd.merge(low_answer, dir_df, on='item', how='left')\n",
    "\n",
    "best_answer= pd.merge(best_answer, title_data, on='item', how= 'left')\n",
    "best_answer= pd.merge(best_answer, num_answer, on='item', how='left')\n",
    "best_answer= pd.merge(best_answer, genre_df,  on='item', how='left')\n",
    "best_answer= pd.merge(best_answer, dir_df,  on='item', how='left')\n",
    "\n",
    "low_tr= pd.merge(low_tr, title_data, on='item', how= 'left')\n",
    "low_tr= pd.merge(low_tr, num_answer, on='item', how='left')\n",
    "low_tr= pd.merge(low_tr, genre_df, on='item', how='left')\n",
    "low_tr= pd.merge(low_tr, dir_df, on='item', how='left')\n",
    "\n",
    "best_tr= pd.merge(best_tr, title_data, on='item', how= 'left')\n",
    "best_tr= pd.merge(best_tr, num_answer, on='item', how='left')\n",
    "best_tr= pd.merge(best_tr, genre_df, on='item', how='left')\n",
    "best_tr= pd.merge(best_tr, dir_df, on='item', how='left')"
   ]
  },
  {
   "cell_type": "code",
   "execution_count": 556,
   "metadata": {},
   "outputs": [],
   "source": [
    "lowest_reco_result0= pd.merge(lowest_reco_result, title_data, on='item', how= 'left')\n",
    "lowest_reco_result0= pd.merge(lowest_reco_result0, num_answer, on='item', how='left')\n",
    "lowest_reco_result0= pd.merge(lowest_reco_result0, genre_df, on='item', how='left')\n",
    "lowest_reco_result0= pd.merge(lowest_reco_result0, dir_df, on='item', how='left')\n",
    "\n",
    "best_reco_result0= pd.merge(best_reco_result, title_data, on='item', how= 'left')\n",
    "best_reco_result0= pd.merge(best_reco_result0, num_answer, on='item', how='left')\n",
    "best_reco_result0= pd.merge(best_reco_result0, genre_df, on='item', how='left')\n",
    "best_reco_result0= pd.merge(best_reco_result0, dir_df, on='item', how='left')"
   ]
  },
  {
   "cell_type": "code",
   "execution_count": 557,
   "metadata": {},
   "outputs": [
    {
     "data": {
      "text/plain": [
       "array([    11,     31,    116, ..., 138472, 138486, 138493])"
      ]
     },
     "execution_count": 557,
     "metadata": {},
     "output_type": "execute_result"
    }
   ],
   "source": [
    "best_reco_result0.user.unique()"
   ]
  },
  {
   "cell_type": "code",
   "execution_count": 558,
   "metadata": {},
   "outputs": [
    {
     "name": "stdout",
     "output_type": "stream",
     "text": [
      "138493에게 추천되어야하는 영화들:\n"
     ]
    },
    {
     "data": {
      "text/html": [
       "<div>\n",
       "<style scoped>\n",
       "    .dataframe tbody tr th:only-of-type {\n",
       "        vertical-align: middle;\n",
       "    }\n",
       "\n",
       "    .dataframe tbody tr th {\n",
       "        vertical-align: top;\n",
       "    }\n",
       "\n",
       "    .dataframe thead th {\n",
       "        text-align: right;\n",
       "    }\n",
       "</style>\n",
       "<table border=\"1\" class=\"dataframe\">\n",
       "  <thead>\n",
       "    <tr style=\"text-align: right;\">\n",
       "      <th></th>\n",
       "      <th>user</th>\n",
       "      <th>item</th>\n",
       "      <th>title</th>\n",
       "      <th>num</th>\n",
       "      <th>genre</th>\n",
       "      <th>director</th>\n",
       "    </tr>\n",
       "  </thead>\n",
       "  <tbody>\n",
       "    <tr>\n",
       "      <th>353138</th>\n",
       "      <td>138493</td>\n",
       "      <td>19</td>\n",
       "      <td>Ace Ventura: When Nature Calls (1995)</td>\n",
       "      <td>418</td>\n",
       "      <td>[[Comedy]]</td>\n",
       "      <td>[[nm0644203]]</td>\n",
       "    </tr>\n",
       "    <tr>\n",
       "      <th>353131</th>\n",
       "      <td>138493</td>\n",
       "      <td>235</td>\n",
       "      <td>Ed Wood (1994)</td>\n",
       "      <td>497</td>\n",
       "      <td>[[Comedy, Drama]]</td>\n",
       "      <td>[[nm0000318]]</td>\n",
       "    </tr>\n",
       "    <tr>\n",
       "      <th>353127</th>\n",
       "      <td>138493</td>\n",
       "      <td>253</td>\n",
       "      <td>Interview with the Vampire: The Vampire Chroni...</td>\n",
       "      <td>1011</td>\n",
       "      <td>[[Drama, Horror]]</td>\n",
       "      <td>[[nm0001403]]</td>\n",
       "    </tr>\n",
       "    <tr>\n",
       "      <th>353135</th>\n",
       "      <td>138493</td>\n",
       "      <td>288</td>\n",
       "      <td>Natural Born Killers (1994)</td>\n",
       "      <td>640</td>\n",
       "      <td>[[Action, Crime, Thriller]]</td>\n",
       "      <td>[[nm0000231]]</td>\n",
       "    </tr>\n",
       "    <tr>\n",
       "      <th>353150</th>\n",
       "      <td>138493</td>\n",
       "      <td>356</td>\n",
       "      <td>Forrest Gump (1994)</td>\n",
       "      <td>3447</td>\n",
       "      <td>[[Comedy, Drama, Romance, War]]</td>\n",
       "      <td>[[nm0000709]]</td>\n",
       "    </tr>\n",
       "    <tr>\n",
       "      <th>...</th>\n",
       "      <td>...</td>\n",
       "      <td>...</td>\n",
       "      <td>...</td>\n",
       "      <td>...</td>\n",
       "      <td>...</td>\n",
       "      <td>...</td>\n",
       "    </tr>\n",
       "    <tr>\n",
       "      <th>353167</th>\n",
       "      <td>138493</td>\n",
       "      <td>52975</td>\n",
       "      <td>Hairspray (2007)</td>\n",
       "      <td>149</td>\n",
       "      <td>[[Comedy, Drama, Musical]]</td>\n",
       "      <td>[[nm0788202]]</td>\n",
       "    </tr>\n",
       "    <tr>\n",
       "      <th>353147</th>\n",
       "      <td>138493</td>\n",
       "      <td>53123</td>\n",
       "      <td>Once (2006)</td>\n",
       "      <td>287</td>\n",
       "      <td>[[Drama, Musical, Romance]]</td>\n",
       "      <td>[[nm0138809]]</td>\n",
       "    </tr>\n",
       "    <tr>\n",
       "      <th>353142</th>\n",
       "      <td>138493</td>\n",
       "      <td>53322</td>\n",
       "      <td>Ocean's Thirteen (2007)</td>\n",
       "      <td>435</td>\n",
       "      <td>[[Crime, Thriller]]</td>\n",
       "      <td>[[nm0001752]]</td>\n",
       "    </tr>\n",
       "    <tr>\n",
       "      <th>353184</th>\n",
       "      <td>138493</td>\n",
       "      <td>68319</td>\n",
       "      <td>X-Men Origins: Wolverine (2009)</td>\n",
       "      <td>285</td>\n",
       "      <td>[[Action, Sci-Fi, Thriller]]</td>\n",
       "      <td>[[nm0004303]]</td>\n",
       "    </tr>\n",
       "    <tr>\n",
       "      <th>353175</th>\n",
       "      <td>138493</td>\n",
       "      <td>70286</td>\n",
       "      <td>District 9 (2009)</td>\n",
       "      <td>1160</td>\n",
       "      <td>[[Mystery, Sci-Fi, Thriller]]</td>\n",
       "      <td>[[nm0088955]]</td>\n",
       "    </tr>\n",
       "  </tbody>\n",
       "</table>\n",
       "<p>62 rows × 6 columns</p>\n",
       "</div>"
      ],
      "text/plain": [
       "          user   item                                              title  \\\n",
       "353138  138493     19              Ace Ventura: When Nature Calls (1995)   \n",
       "353131  138493    235                                     Ed Wood (1994)   \n",
       "353127  138493    253  Interview with the Vampire: The Vampire Chroni...   \n",
       "353135  138493    288                        Natural Born Killers (1994)   \n",
       "353150  138493    356                                Forrest Gump (1994)   \n",
       "...        ...    ...                                                ...   \n",
       "353167  138493  52975                                   Hairspray (2007)   \n",
       "353147  138493  53123                                        Once (2006)   \n",
       "353142  138493  53322                            Ocean's Thirteen (2007)   \n",
       "353184  138493  68319                    X-Men Origins: Wolverine (2009)   \n",
       "353175  138493  70286                                  District 9 (2009)   \n",
       "\n",
       "         num                            genre       director  \n",
       "353138   418                       [[Comedy]]  [[nm0644203]]  \n",
       "353131   497                [[Comedy, Drama]]  [[nm0000318]]  \n",
       "353127  1011                [[Drama, Horror]]  [[nm0001403]]  \n",
       "353135   640      [[Action, Crime, Thriller]]  [[nm0000231]]  \n",
       "353150  3447  [[Comedy, Drama, Romance, War]]  [[nm0000709]]  \n",
       "...      ...                              ...            ...  \n",
       "353167   149       [[Comedy, Drama, Musical]]  [[nm0788202]]  \n",
       "353147   287      [[Drama, Musical, Romance]]  [[nm0138809]]  \n",
       "353142   435              [[Crime, Thriller]]  [[nm0001752]]  \n",
       "353184   285     [[Action, Sci-Fi, Thriller]]  [[nm0004303]]  \n",
       "353175  1160    [[Mystery, Sci-Fi, Thriller]]  [[nm0088955]]  \n",
       "\n",
       "[62 rows x 6 columns]"
      ]
     },
     "execution_count": 558,
     "metadata": {},
     "output_type": "execute_result"
    }
   ],
   "source": [
    "user= 138493\n",
    "print(f'{user}에게 추천되어야하는 영화들:')\n",
    "best_answer[best_answer.user == user].sort_values('item')\n"
   ]
  },
  {
   "cell_type": "code",
   "execution_count": 559,
   "metadata": {},
   "outputs": [
    {
     "name": "stdout",
     "output_type": "stream",
     "text": [
      "학습에 사용된 138493의 평가이력:\n"
     ]
    },
    {
     "data": {
      "text/html": [
       "<div>\n",
       "<style scoped>\n",
       "    .dataframe tbody tr th:only-of-type {\n",
       "        vertical-align: middle;\n",
       "    }\n",
       "\n",
       "    .dataframe tbody tr th {\n",
       "        vertical-align: top;\n",
       "    }\n",
       "\n",
       "    .dataframe thead th {\n",
       "        text-align: right;\n",
       "    }\n",
       "</style>\n",
       "<table border=\"1\" class=\"dataframe\">\n",
       "  <thead>\n",
       "    <tr style=\"text-align: right;\">\n",
       "      <th></th>\n",
       "      <th>user</th>\n",
       "      <th>item</th>\n",
       "      <th>title</th>\n",
       "      <th>num</th>\n",
       "      <th>genre</th>\n",
       "      <th>director</th>\n",
       "    </tr>\n",
       "  </thead>\n",
       "  <tbody>\n",
       "    <tr>\n",
       "      <th>1423618</th>\n",
       "      <td>138493</td>\n",
       "      <td>1</td>\n",
       "      <td>Toy Story (1995)</td>\n",
       "      <td>2358</td>\n",
       "      <td>[[Adventure, Animation, Children, Comedy, Fant...</td>\n",
       "      <td>[[nm0005124]]</td>\n",
       "    </tr>\n",
       "    <tr>\n",
       "      <th>1423729</th>\n",
       "      <td>138493</td>\n",
       "      <td>2</td>\n",
       "      <td>Jumanji (1995)</td>\n",
       "      <td>648</td>\n",
       "      <td>[[Adventure, Children, Fantasy]]</td>\n",
       "      <td>[[nm0002653]]</td>\n",
       "    </tr>\n",
       "    <tr>\n",
       "      <th>1423582</th>\n",
       "      <td>138493</td>\n",
       "      <td>18</td>\n",
       "      <td>Four Rooms (1995)</td>\n",
       "      <td>187</td>\n",
       "      <td>[[Comedy]]</td>\n",
       "      <td>[[nm0000233, nm0001675, nm0005062]]</td>\n",
       "    </tr>\n",
       "    <tr>\n",
       "      <th>1423543</th>\n",
       "      <td>138493</td>\n",
       "      <td>70</td>\n",
       "      <td>From Dusk Till Dawn (1996)</td>\n",
       "      <td>473</td>\n",
       "      <td>[[Action, Comedy, Horror, Thriller]]</td>\n",
       "      <td>[[nm0001675]]</td>\n",
       "    </tr>\n",
       "    <tr>\n",
       "      <th>1423530</th>\n",
       "      <td>138493</td>\n",
       "      <td>107</td>\n",
       "      <td>Muppet Treasure Island (1996)</td>\n",
       "      <td>169</td>\n",
       "      <td>[[Adventure, Children, Comedy, Musical]]</td>\n",
       "      <td>[[nm0005008]]</td>\n",
       "    </tr>\n",
       "    <tr>\n",
       "      <th>...</th>\n",
       "      <td>...</td>\n",
       "      <td>...</td>\n",
       "      <td>...</td>\n",
       "      <td>...</td>\n",
       "      <td>...</td>\n",
       "      <td>...</td>\n",
       "    </tr>\n",
       "    <tr>\n",
       "      <th>1423734</th>\n",
       "      <td>138493</td>\n",
       "      <td>61160</td>\n",
       "      <td>Star Wars: The Clone Wars (2008)</td>\n",
       "      <td>61</td>\n",
       "      <td>[[Action, Adventure, Animation, Sci-Fi]]</td>\n",
       "      <td>NaN</td>\n",
       "    </tr>\n",
       "    <tr>\n",
       "      <th>1423603</th>\n",
       "      <td>138493</td>\n",
       "      <td>65682</td>\n",
       "      <td>Underworld: Rise of the Lycans (2009)</td>\n",
       "      <td>82</td>\n",
       "      <td>[[Action, Fantasy, Horror, Thriller]]</td>\n",
       "      <td>NaN</td>\n",
       "    </tr>\n",
       "    <tr>\n",
       "      <th>1423509</th>\n",
       "      <td>138493</td>\n",
       "      <td>66762</td>\n",
       "      <td>Paris (2008)</td>\n",
       "      <td>17</td>\n",
       "      <td>[[Comedy, Drama, Romance]]</td>\n",
       "      <td>[[nm0458251]]</td>\n",
       "    </tr>\n",
       "    <tr>\n",
       "      <th>1423701</th>\n",
       "      <td>138493</td>\n",
       "      <td>68954</td>\n",
       "      <td>Up (2009)</td>\n",
       "      <td>1291</td>\n",
       "      <td>[[Adventure, Animation, Children, Drama]]</td>\n",
       "      <td>[[nm0230032]]</td>\n",
       "    </tr>\n",
       "    <tr>\n",
       "      <th>1423740</th>\n",
       "      <td>138493</td>\n",
       "      <td>69526</td>\n",
       "      <td>Transformers: Revenge of the Fallen (2009)</td>\n",
       "      <td>151</td>\n",
       "      <td>[[Action, Adventure, Sci-Fi]]</td>\n",
       "      <td>[[nm0000881]]</td>\n",
       "    </tr>\n",
       "  </tbody>\n",
       "</table>\n",
       "<p>252 rows × 6 columns</p>\n",
       "</div>"
      ],
      "text/plain": [
       "           user   item                                       title   num  \\\n",
       "1423618  138493      1                            Toy Story (1995)  2358   \n",
       "1423729  138493      2                              Jumanji (1995)   648   \n",
       "1423582  138493     18                           Four Rooms (1995)   187   \n",
       "1423543  138493     70                  From Dusk Till Dawn (1996)   473   \n",
       "1423530  138493    107               Muppet Treasure Island (1996)   169   \n",
       "...         ...    ...                                         ...   ...   \n",
       "1423734  138493  61160            Star Wars: The Clone Wars (2008)    61   \n",
       "1423603  138493  65682       Underworld: Rise of the Lycans (2009)    82   \n",
       "1423509  138493  66762                                Paris (2008)    17   \n",
       "1423701  138493  68954                                   Up (2009)  1291   \n",
       "1423740  138493  69526  Transformers: Revenge of the Fallen (2009)   151   \n",
       "\n",
       "                                                     genre  \\\n",
       "1423618  [[Adventure, Animation, Children, Comedy, Fant...   \n",
       "1423729                   [[Adventure, Children, Fantasy]]   \n",
       "1423582                                         [[Comedy]]   \n",
       "1423543               [[Action, Comedy, Horror, Thriller]]   \n",
       "1423530           [[Adventure, Children, Comedy, Musical]]   \n",
       "...                                                    ...   \n",
       "1423734           [[Action, Adventure, Animation, Sci-Fi]]   \n",
       "1423603              [[Action, Fantasy, Horror, Thriller]]   \n",
       "1423509                         [[Comedy, Drama, Romance]]   \n",
       "1423701          [[Adventure, Animation, Children, Drama]]   \n",
       "1423740                      [[Action, Adventure, Sci-Fi]]   \n",
       "\n",
       "                                    director  \n",
       "1423618                        [[nm0005124]]  \n",
       "1423729                        [[nm0002653]]  \n",
       "1423582  [[nm0000233, nm0001675, nm0005062]]  \n",
       "1423543                        [[nm0001675]]  \n",
       "1423530                        [[nm0005008]]  \n",
       "...                                      ...  \n",
       "1423734                                  NaN  \n",
       "1423603                                  NaN  \n",
       "1423509                        [[nm0458251]]  \n",
       "1423701                        [[nm0230032]]  \n",
       "1423740                        [[nm0000881]]  \n",
       "\n",
       "[252 rows x 6 columns]"
      ]
     },
     "execution_count": 559,
     "metadata": {},
     "output_type": "execute_result"
    }
   ],
   "source": [
    "print(f'학습에 사용된 {user}의 평가이력:')\n",
    "best_tr[best_tr.user == user].sort_values('item')"
   ]
  },
  {
   "cell_type": "code",
   "execution_count": null,
   "metadata": {},
   "outputs": [],
   "source": [
    "print('맞춘 영화:')\n",
    "print(set(best_answer[best_answer.user ==user].item) & set(best_reco_result0[best_reco_result0.user == user].item))\n",
    "print(f'예측된 {user}의 평점 이력:')\n",
    "best_reco_result0[best_reco_result0.user == user].sort_values('item')\n"
   ]
  },
  {
   "cell_type": "code",
   "execution_count": 351,
   "metadata": {},
   "outputs": [
    {
     "data": {
      "text/plain": [
       "array([ 43,  72,  77,  91, 102, 163, 182, 189, 201, 204, 220, 312, 313,\n",
       "       316, 351, 375, 379, 383, 395, 455])"
      ]
     },
     "execution_count": 351,
     "metadata": {},
     "output_type": "execute_result"
    }
   ],
   "source": [
    "lowest_reco_result.user.unique()[:20]"
   ]
  },
  {
   "cell_type": "code",
   "execution_count": null,
   "metadata": {},
   "outputs": [],
   "source": [
    "# user 별 분석\n",
    "user= 379\n",
    "print(f'{user}의 답안:')\n",
    "low_answer[low_answer.user == user].sort_values('item')\n"
   ]
  },
  {
   "cell_type": "code",
   "execution_count": null,
   "metadata": {},
   "outputs": [],
   "source": [
    "print(f'{user}가 본 학습 평가이력:')\n",
    "low_tr[low_tr.user == user].sort_values('item')"
   ]
  },
  {
   "cell_type": "code",
   "execution_count": null,
   "metadata": {},
   "outputs": [],
   "source": [
    "print('맞춘 영화:')\n",
    "print(set(low_answer[low_answer.user ==user].item) & set(lowest_reco_result0[lowest_reco_result0.user == user].item))\n",
    "print(f'예측된 {user}의 평점 이력:')\n",
    "lowest_reco_result0[lowest_reco_result0.user == user].sort_values('item')"
   ]
  },
  {
   "cell_type": "markdown",
   "metadata": {},
   "source": [
    "[평가이력수]\n",
    "- best user 그룹의 평가이력은 bad user 그룹의 평가이력 수보다 대체적으로 더 많은 것을 알 수 있습니다. \n",
    "    - 즉 user가 선호할만한 영화에 대한 feature값이 잘 학습될 확률이 큽니다. \n",
    "    - 그러나 일부 bad user는 학습할만한 데이터가 많지 않기 때문에 적합한 영화를 추천하지 못했을 것입니다. \n",
    "    \n",
    "-> 임베딩값에 노이즈를 넣어 해당 유저들의 아이템 수를 늘리거나, 아이템 임베딩 값에서 유사한 영화들을 추가해 학습데이터 양을 늘리면 성능향상에 도움이 되지 않을까요?\n",
    "\n",
    "- 유저 1384565과 같이 bad user에 평가이력이 많더라도 여러 장르의 영화를 즐겨보거나 drama와 같은 범용적인 장르의 영화를 즐겨보는 유저의 경우 추천 성능이 떨어집니다.\n",
    "    - 이와 유사하게 best user에서 평가이력이 상대적으로 적더라도 하나의 장르 영화를 즐겨본 유저의 경우엔 추천 성능이 좋다는 것을 발견했습니다.\n",
    "\n",
    "->drama장르와 같이 범용적인 장르의 영화를 랜덤으로 빼줄 수 있지 않을까?\n",
    "\n",
    "- bad user 그룹은 맞춰봤자 1개 내외의 영화를 맞추고 있음을 알 수 있습니다.\n",
    "\n",
    "[장르]\n",
    "- 대체적으로 장르의 경우 답안을 따라가는 경향이 있습니다. \n",
    "    - 코미디, 로맨스 많이 본 사람한테 그러한 장르의 영화를 추천해줌\n",
    "    - 특히 유저 77,163과 같이 horror와 thriller같은 장르를 많이 봤으면 대다수를 그와 관련한 영화로 추천하는 경향이 있음\n",
    "-> 영화별 유사도를 기반으로 유저가 볼 것 같은 영화후보군을 reranking하는 방법도 좋을것같습니다.\n",
    "\n",
    "[인기도]\n",
    "- 인기도가 떨어지는(평균 이하의 빈도수를 가진)영화도 가끔 추천결과로 나오지만 대체적으로 num이 큰 영화들이 결과로 제시됩니다.\n",
    "    "
   ]
  },
  {
   "cell_type": "markdown",
   "metadata": {},
   "source": [
    "# 유사도 기반 reranking"
   ]
  },
  {
   "cell_type": "code",
   "execution_count": 234,
   "metadata": {},
   "outputs": [],
   "source": [
    "from gensim.models import Word2Vec\n",
    "model = Word2Vec.load('/opt/ml/input/code/RecVAE/item2vec_word2vecSg_20180328')\n",
    "word_vectors = model.wv"
   ]
  },
  {
   "cell_type": "code",
   "execution_count": null,
   "metadata": {},
   "outputs": [],
   "source": [
    "answer= pd.read_csv('/opt/ml/input/check_te.csv')\n",
    "def de_numerize(tp, re_p2id, re_s2id):\n",
    "    uid = tp['uid'].apply(lambda x: re_p2id[x])\n",
    "    sid = tp['sid'].apply(lambda x: re_s2id[x])\n",
    "    return pd.DataFrame(data={'uid': uid, 'sid': sid}, columns=['uid', 'sid'])\n",
    "\n",
    "answer = de_numerize(answer, re_p2id, re_s2id)\n",
    "answer.rename({'uid':'user'}, axis=1, inplace=True)\n",
    "answer.rename({'sid':'item'}, axis=1, inplace=True)"
   ]
  },
  {
   "cell_type": "code",
   "execution_count": 601,
   "metadata": {},
   "outputs": [],
   "source": [
    "# inference시 실행\n",
    "recvae7=pd.read_csv('/opt/ml/input/code/RecVAE/recvae_dir_genre7.csv')\n",
    "recvae7_50=pd.read_csv('/opt/ml/input/code/RecVAE/recvae_dir_genre7_50.csv')"
   ]
  },
  {
   "cell_type": "code",
   "execution_count": 602,
   "metadata": {},
   "outputs": [],
   "source": [
    "# inference시 실행\n",
    "lowest_reco_result0= recvae7_50[recvae7_50.user.isin(lowest_result_users)]\n",
    "low_tr= pd.read_csv('/opt/ml/input/data/train/train_ratings.csv') # 학습에 사용된 전체 데이터셋"
   ]
  },
  {
   "cell_type": "code",
   "execution_count": 645,
   "metadata": {},
   "outputs": [],
   "source": [
    "import torch\n",
    "from sklearn.metrics import pairwise_distances\n",
    "from collections import Counter\n",
    "\n",
    "recvae= torch.load('/opt/ml/input/code/RecVAE/recvae7.pt')\n",
    "emb= recvae.decoder.weight\n",
    "emb= emb.detach().cpu().numpy()\n",
    "sim= 1-pairwise_distances(emb, metric=\"cosine\")\n",
    "\n",
    "# 자기자신 제외\n",
    "sim[sim == 1]= -np.inf\n",
    "\n",
    "with open('profile2id_check.pkl', 'rb') as f:\n",
    "    profile2id = pickle.load(f)\n",
    "\n",
    "with open('show2id_check.pkl', 'rb') as f:\n",
    "    show2id = pickle.load(f)\n",
    "re_p2id = dict((v, k) for k, v in profile2id.items())\n",
    "re_s2id = dict((v, k) for k, v in show2id.items())"
   ]
  },
  {
   "cell_type": "code",
   "execution_count": 604,
   "metadata": {},
   "outputs": [],
   "source": [
    "dir_pref= np.load('/opt/ml/input/data/train/pref_item0.npy') #numerize, 유저별 특정 감독의 영화에 대한 선호도\n",
    "dir_pref[dir_pref==2] = 10\n",
    "genre_pref= np.load(\"/opt/ml/input/data/train/lst.npy\")\n",
    "\n",
    "# 감독선호도와 장르선호도를 reranking에 반영하는 함수\n",
    "def reflect_pref(dic, dic2):\n",
    "    key= dic.keys()\n",
    "    for k in key:\n",
    "        dic[k] *= dir_pref[profile2id[user]][show2id[k]] # 감독선호\n",
    "        dic[k] += genre_pref[profile2id[user]][show2id[k]] # 장르선호\n",
    "\n",
    "    key2= dic2.keys()\n",
    "    for k in key2:\n",
    "        dic2[k] *= dir_pref[profile2id[user]][show2id[k]] # 감독선호\n",
    "        dic2[k] += genre_pref[profile2id[user]][show2id[k]] # 장르선호\n",
    "    \n",
    "    return dic,dic2\n",
    "\n",
    "# 영화 간 유사도를 기반으로 아이템을 재추천해주는 함수\n",
    "def similarities(user, reflect=True):\n",
    "    low_tr_item= low_tr[low_tr.user == user]['item']\n",
    "    rec_item= lowest_reco_result0[lowest_reco_result0.user==user]['item']\n",
    "\n",
    "    low_tr_item2= low_tr[low_tr.user == user]['item'].apply(lambda x: show2id[x]) #recvae sim적용위한 numerize\n",
    "    rec_item2= lowest_reco_result0[lowest_reco_result0.user==user]['item'].apply(lambda x: show2id[x])\n",
    "\n",
    "    leng= len(low_tr_item)\n",
    "    rec_l= len(rec_item)\n",
    "    if leng > rec_l:\n",
    "        sim_df= pd.DataFrame(data={'low_tr':list(low_tr_item.sort_values()), 'rec_item': list(rec_item.sort_values()) + [7000] * abs(leng-rec_l)})\n",
    "    elif leng < rec_l:\n",
    "        sim_df= pd.DataFrame(data={'low_tr':list(low_tr_item.sort_values())+ [7000] * abs(leng-rec_l), 'rec_item': list(rec_item.sort_values())})\n",
    "    else:\n",
    "        sim_df= pd.DataFrame(data={'low_tr':list(low_tr_item.sort_values()), 'rec_item': list(rec_item.sort_values())})\n",
    "\n",
    "    leng2= len(low_tr_item2)\n",
    "    rec_l2= len(rec_item2)\n",
    "    if leng2 > rec_l2:\n",
    "        sim_df2= pd.DataFrame(data={'low_tr':list(low_tr_item2.sort_values()), 'rec_item': list(rec_item2.sort_values()) + [7000] * abs(leng2-rec_l2)})\n",
    "    elif leng2 < rec_l2:\n",
    "        sim_df2= pd.DataFrame(data={'low_tr':list(low_tr_item2.sort_values())+ [7000] * abs(leng2-rec_l2), 'rec_item': list(rec_item2.sort_values())})\n",
    "    else:\n",
    "        sim_df2= pd.DataFrame(data={'low_tr':list(low_tr_item2.sort_values()), 'rec_item': list(rec_item2.sort_values())})\n",
    "\n",
    "    sim_df['sim']=0\n",
    "    sim_df2['sim']=0\n",
    "\n",
    "    sim_pivot= sim_df.pivot_table(index='low_tr', columns='rec_item', values='sim')\n",
    "    sim_pivot2= sim_df2.pivot_table(index='low_tr', columns='rec_item', values='sim')\n",
    "    if sum([7000 in sim_pivot.index]) >=1:\n",
    "        sim_pivot.drop(7000, axis=0, inplace=True)\n",
    "    elif sum([7000 in sim_pivot.columns]) >=1:\n",
    "        sim_pivot.drop(7000, axis=1, inplace=True)\n",
    "\n",
    "    if sum([7000 in sim_pivot2.index]) >=1:\n",
    "        sim_pivot2.drop(7000, axis=0, inplace=True)\n",
    "    elif sum([7000 in sim_pivot2.columns]) >=1:\n",
    "        sim_pivot2.drop(7000, axis=1, inplace=True)\n",
    "\n",
    "        \n",
    "    idx=list(sim_pivot.index)\n",
    "    dic={}\n",
    "    for col in sim_pivot.columns:\n",
    "        for idx in sim_pivot.index:\n",
    "            try: \n",
    "                sim_pivot[col][idx]= word_vectors.similarity(str(col),str(idx))\n",
    "            except:\n",
    "                sim_pivot[col][idx]= 0\n",
    "\n",
    "        dic[col]= sim_pivot[col].sum()\n",
    "\n",
    "    dic2={}\n",
    "    idx2=list(sim_pivot2.index)\n",
    "    for col in sim_pivot2.columns:\n",
    "        sim_pivot2[col]=sim[col][idx2]\n",
    "        dic2[re_s2id[col]]= sim_pivot2[col].sum() # denum\n",
    "    \n",
    "\n",
    "    if reflect==True:\n",
    "        dic, dic2= reflect_pref(dic,dic2)\n",
    "    dic3= Counter(dic2) + Counter(dic)\n",
    "    temp= sorted(dic3.items(), key = lambda item: item[1], reverse=True)[:10] # 원래 아이디\n",
    "    items= list(map(lambda x:x[0], temp))\n",
    "\n",
    "    return user, items"
   ]
  },
  {
   "cell_type": "code",
   "execution_count": 605,
   "metadata": {},
   "outputs": [
    {
     "name": "stderr",
     "output_type": "stream",
     "text": [
      "100%|██████████| 4737/4737 [32:17<00:00,  2.45it/s] \n"
     ]
    }
   ],
   "source": [
    "user2 = []\n",
    "item2 = []\n",
    "for u in tqdm(lowest_reco_result.user.unique()):\n",
    "    user, items = similarities(u, reflect=True)\n",
    "    user2.extend([user]*10)\n",
    "    item2.extend(items)"
   ]
  },
  {
   "cell_type": "code",
   "execution_count": 621,
   "metadata": {},
   "outputs": [],
   "source": [
    "u2 = pd.DataFrame(user2, columns=['user'])\n",
    "i2 = pd.DataFrame(item2, columns=['item'])\n",
    "all2 = pd.concat([u2, i2], axis=1)"
   ]
  },
  {
   "cell_type": "code",
   "execution_count": 622,
   "metadata": {},
   "outputs": [
    {
     "data": {
      "text/html": [
       "<div>\n",
       "<style scoped>\n",
       "    .dataframe tbody tr th:only-of-type {\n",
       "        vertical-align: middle;\n",
       "    }\n",
       "\n",
       "    .dataframe tbody tr th {\n",
       "        vertical-align: top;\n",
       "    }\n",
       "\n",
       "    .dataframe thead th {\n",
       "        text-align: right;\n",
       "    }\n",
       "</style>\n",
       "<table border=\"1\" class=\"dataframe\">\n",
       "  <thead>\n",
       "    <tr style=\"text-align: right;\">\n",
       "      <th></th>\n",
       "      <th>user</th>\n",
       "      <th>item</th>\n",
       "    </tr>\n",
       "  </thead>\n",
       "  <tbody>\n",
       "    <tr>\n",
       "      <th>0</th>\n",
       "      <td>43</td>\n",
       "      <td>4995</td>\n",
       "    </tr>\n",
       "    <tr>\n",
       "      <th>1</th>\n",
       "      <td>43</td>\n",
       "      <td>5989</td>\n",
       "    </tr>\n",
       "    <tr>\n",
       "      <th>2</th>\n",
       "      <td>43</td>\n",
       "      <td>4886</td>\n",
       "    </tr>\n",
       "    <tr>\n",
       "      <th>3</th>\n",
       "      <td>43</td>\n",
       "      <td>2762</td>\n",
       "    </tr>\n",
       "    <tr>\n",
       "      <th>4</th>\n",
       "      <td>43</td>\n",
       "      <td>7153</td>\n",
       "    </tr>\n",
       "    <tr>\n",
       "      <th>...</th>\n",
       "      <td>...</td>\n",
       "      <td>...</td>\n",
       "    </tr>\n",
       "    <tr>\n",
       "      <th>47365</th>\n",
       "      <td>138470</td>\n",
       "      <td>48516</td>\n",
       "    </tr>\n",
       "    <tr>\n",
       "      <th>47366</th>\n",
       "      <td>138470</td>\n",
       "      <td>3897</td>\n",
       "    </tr>\n",
       "    <tr>\n",
       "      <th>47367</th>\n",
       "      <td>138470</td>\n",
       "      <td>4878</td>\n",
       "    </tr>\n",
       "    <tr>\n",
       "      <th>47368</th>\n",
       "      <td>138470</td>\n",
       "      <td>48774</td>\n",
       "    </tr>\n",
       "    <tr>\n",
       "      <th>47369</th>\n",
       "      <td>138470</td>\n",
       "      <td>8665</td>\n",
       "    </tr>\n",
       "  </tbody>\n",
       "</table>\n",
       "<p>47370 rows × 2 columns</p>\n",
       "</div>"
      ],
      "text/plain": [
       "         user   item\n",
       "0          43   4995\n",
       "1          43   5989\n",
       "2          43   4886\n",
       "3          43   2762\n",
       "4          43   7153\n",
       "...       ...    ...\n",
       "47365  138470  48516\n",
       "47366  138470   3897\n",
       "47367  138470   4878\n",
       "47368  138470  48774\n",
       "47369  138470   8665\n",
       "\n",
       "[47370 rows x 2 columns]"
      ]
     },
     "execution_count": 622,
     "metadata": {},
     "output_type": "execute_result"
    }
   ],
   "source": [
    "all2"
   ]
  },
  {
   "cell_type": "markdown",
   "metadata": {},
   "source": [
    "reranking을 진행하지 않은 best, middle 유저군과 합쳐 결과파일 생성"
   ]
  },
  {
   "cell_type": "code",
   "execution_count": 609,
   "metadata": {},
   "outputs": [],
   "source": [
    "sub= recvae7[recvae7.user.isin(lowest_reco_result.user.unique())].index\n",
    "recvae7.drop(sub, axis=0, inplace=True)\n",
    "final= pd.concat([recvae7, all2], axis=0)"
   ]
  },
  {
   "cell_type": "code",
   "execution_count": 579,
   "metadata": {},
   "outputs": [],
   "source": [
    "final.to_csv('recvae_low_process2.csv')"
   ]
  }
 ],
 "metadata": {
  "interpreter": {
   "hash": "d4d1e4263499bec80672ea0156c357c1ee493ec2b1c70f0acce89fc37c4a6abe"
  },
  "kernelspec": {
   "display_name": "Python 3.8.5 ('base')",
   "language": "python",
   "name": "python3"
  },
  "language_info": {
   "codemirror_mode": {
    "name": "ipython",
    "version": 3
   },
   "file_extension": ".py",
   "mimetype": "text/x-python",
   "name": "python",
   "nbconvert_exporter": "python",
   "pygments_lexer": "ipython3",
   "version": "3.7.9"
  },
  "orig_nbformat": 4
 },
 "nbformat": 4,
 "nbformat_minor": 2
}
